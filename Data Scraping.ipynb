{
  "cells": [
    {
      "cell_type": "markdown",
      "metadata": {
        "id": "CT-Jx4_F2TII"
      },
      "source": [
        "# Scraping reddit data "
      ]
    },
    {
      "cell_type": "code",
      "execution_count": 1,
      "metadata": {
        "id": "NORJcrHb2LbR"
      },
      "outputs": [],
      "source": [
        "# randomized delay between requests as a consideration to Reddit's servers and security staff \n",
        "# run this cell \n",
        "\n",
        "import requests \n",
        "import time \n",
        "import pandas as pd \n",
        "from random import randint "
      ]
    },
    {
      "cell_type": "code",
      "execution_count": 2,
      "metadata": {
        "id": "67vDr5kW3F8d"
      },
      "outputs": [],
      "source": [
        "url = \"https://www.reddit.com/r/stress.json\""
      ]
    },
    {
      "cell_type": "code",
      "execution_count": 3,
      "metadata": {
        "colab": {
          "base_uri": "https://localhost:8080/"
        },
        "id": "vwwPecfO48PE",
        "outputId": "b732054e-9142-412d-a191-cf821e40eae9"
      },
      "outputs": [
        {
          "data": {
            "text/plain": [
              "200"
            ]
          },
          "execution_count": 3,
          "metadata": {},
          "output_type": "execute_result"
        }
      ],
      "source": [
        "headers = {\"User-agent\" : \"randuser\"}\n",
        "res = requests.get(url, headers=headers)\n",
        "res.status_code "
      ]
    },
    {
      "cell_type": "code",
      "execution_count": null,
      "metadata": {
        "id": "vNMONpWu48Lo"
      },
      "outputs": [],
      "source": [
        "stress_json = res.json()\n",
        "stress_json"
      ]
    },
    {
      "cell_type": "code",
      "execution_count": null,
      "metadata": {
        "colab": {
          "base_uri": "https://localhost:8080/"
        },
        "id": "NPTwFYMl48HL",
        "outputId": "1235abc9-3948-418f-cbd5-ef6cd70d6ac1"
      },
      "outputs": [
        {
          "data": {
            "text/plain": [
              "['after', 'before', 'children', 'dist', 'geo_filter', 'modhash']"
            ]
          },
          "execution_count": 25,
          "metadata": {},
          "output_type": "execute_result"
        }
      ],
      "source": [
        "# keys of reddit data \n",
        "sorted(stress_json[\"data\"].keys())"
      ]
    },
    {
      "cell_type": "code",
      "execution_count": null,
      "metadata": {
        "colab": {
          "base_uri": "https://localhost:8080/",
          "height": 35
        },
        "id": "g7T_5XHt48Ee",
        "outputId": "a2ac4efc-21cb-49e6-a799-8cbce4a839c1"
      },
      "outputs": [
        {
          "data": {
            "application/vnd.google.colaboratory.intrinsic+json": {
              "type": "string"
            },
            "text/plain": [
              "'t3_tzs0l4'"
            ]
          },
          "execution_count": 26,
          "metadata": {},
          "output_type": "execute_result"
        }
      ],
      "source": [
        "# the after string is the query url that indicateswe want to see the next 25 posts after(predetermined number) \n",
        "stress_json[\"data\"][\"after\"]"
      ]
    },
    {
      "cell_type": "code",
      "execution_count": null,
      "metadata": {
        "colab": {
          "base_uri": "https://localhost:8080/"
        },
        "id": "nTfeam7F48Bv",
        "outputId": "44384689-b010-4602-8e4d-9043be4534dc"
      },
      "outputs": [
        {
          "data": {
            "text/plain": [
              "['t3_fwes89',\n",
              " 't3_u6wml7',\n",
              " 't3_u6kp9a',\n",
              " 't3_u61dcm',\n",
              " 't3_u5pdeg',\n",
              " 't3_u5lh2q',\n",
              " 't3_u5e2ry',\n",
              " 't3_u4liwf',\n",
              " 't3_u3zvjb',\n",
              " 't3_u3b4w8',\n",
              " 't3_u3ke4p',\n",
              " 't3_u3iikk',\n",
              " 't3_u3fx4t',\n",
              " 't3_u344p5',\n",
              " 't3_u2uhxi',\n",
              " 't3_u2mzd2',\n",
              " 't3_u20vdl',\n",
              " 't3_u1lss6',\n",
              " 't3_u19f0m',\n",
              " 't3_u13s1b',\n",
              " 't3_u0ksan',\n",
              " 't3_u0zoub',\n",
              " 't3_u0pcbs',\n",
              " 't3_u0e83h',\n",
              " 't3_u01tzi',\n",
              " 't3_tzs0l4']"
            ]
          },
          "execution_count": 27,
          "metadata": {},
          "output_type": "execute_result"
        }
      ],
      "source": [
        "[post[\"data\"][\"name\"] for post in stress_json[\"data\"][\"children\"]]"
      ]
    },
    {
      "cell_type": "code",
      "execution_count": null,
      "metadata": {
        "colab": {
          "base_uri": "https://localhost:8080/"
        },
        "id": "3yvPqPQg47-3",
        "outputId": "52dbe189-ffc1-4c86-f1f3-a4edac7d3820"
      },
      "outputs": [
        {
          "data": {
            "text/plain": [
              "26"
            ]
          },
          "execution_count": 28,
          "metadata": {},
          "output_type": "execute_result"
        }
      ],
      "source": [
        "# number of posts in one page \n",
        "len(stress_json[\"data\"][\"children\"])"
      ]
    },
    {
      "cell_type": "code",
      "execution_count": null,
      "metadata": {
        "id": "HWmzCNkC478R"
      },
      "outputs": [],
      "source": [
        "pd.DataFrame(stress_json[\"data\"][\"children\"])"
      ]
    },
    {
      "cell_type": "code",
      "execution_count": null,
      "metadata": {
        "colab": {
          "base_uri": "https://localhost:8080/",
          "height": 88
        },
        "id": "JKMN27xk4730",
        "outputId": "bd4e2884-431d-48b0-9bdc-0f40fb01068a"
      },
      "outputs": [
        {
          "data": {
            "application/vnd.google.colaboratory.intrinsic+json": {
              "type": "string"
            },
            "text/plain": [
              "\"The book is available [Here](https://thewellnesssociety.org/free-coronavirus-anxiety-workbook/) from The Wellness Society. Everyone right now needs a little extra help and hopefully, this e-book can assist some of you in uncovering the toolset you need during this abnormal time, or at least it might help with bridging the gap between now and when you may be able to seek more professional assistance. Obviously, it's not a solution to all problems, and some of you are going to be going through a lot more than others, but I hope many of you can find it useful.\\nStay safe, stay healthy.\""
            ]
          },
          "execution_count": 30,
          "metadata": {},
          "output_type": "execute_result"
        }
      ],
      "source": [
        "stress_json[\"data\"][\"children\"][0][\"data\"][\"selftext\"]"
      ]
    },
    {
      "cell_type": "code",
      "execution_count": 4,
      "metadata": {
        "id": "sprsjsBZ47tp"
      },
      "outputs": [],
      "source": [
        "# functions to automate the data collection process \n",
        "def reddit_scrape(url_string, number_of_scrapes, output_list):\n",
        "  after = None \n",
        "  for _  in range(number_of_scrapes):\n",
        "    if _ == 0:\n",
        "      print(f\"SCRAPING {url_string}\\n--------------------------------------------------\")\n",
        "      print(\"<<<SCRAPING COMMENCED>>>\")\n",
        "      print(f\"Downloading Batch {1} of {number_of_scrapes}\")\n",
        "    elif (_+1) % 5 == 0:\n",
        "      print(f\"Downloading batch {(_ + 1)} of {number_of_scrapes}\")\n",
        "\n",
        "    if after == None:\n",
        "      params = {} \n",
        "    else:\n",
        "      # tells the scraper to get the next set after reddit's after code \n",
        "      params = {\"after\": after}\n",
        "    res = requests.get(url_string, params=params, headers=headers)\n",
        "    if res.status_code == 200:\n",
        "      the_json = res.json() \n",
        "      output_list.extend(the_json[\"data\"][\"children\"])\n",
        "      after = the_json[\"data\"][\"after\"]\n",
        "    else:\n",
        "      print(res.status_code)\n",
        "      break \n",
        "    time.sleep(randint(1,6))\n",
        "\n",
        "  print(\"<<<SCRAPING COMPLETED>>>\")\n",
        "  print(f\"Number of posts downloaded: {len(output_list)}\")\n",
        "  print(\"Number of unique posts: {}\".format(len(set([p[\"data\"][\"name\"] for p in output_list]))))"
      ]
    },
    {
      "cell_type": "code",
      "execution_count": 9,
      "metadata": {
        "colab": {
          "base_uri": "https://localhost:8080/"
        },
        "id": "CzzFZMuuhus8",
        "outputId": "f4764de7-0892-4664-b7c5-70b18a9c115a"
      },
      "outputs": [
        {
          "name": "stdout",
          "output_type": "stream",
          "text": [
            "SCRAPING https://www.reddit.com/r/stress.json\n",
            "--------------------------------------------------\n",
            "<<<SCRAPING COMMENCED>>>\n",
            "Downloading Batch 1 of 300\n",
            "Downloading batch 5 of 300\n",
            "Downloading batch 10 of 300\n",
            "Downloading batch 15 of 300\n",
            "Downloading batch 20 of 300\n",
            "Downloading batch 25 of 300\n",
            "Downloading batch 30 of 300\n",
            "Downloading batch 35 of 300\n",
            "Downloading batch 40 of 300\n",
            "Downloading batch 45 of 300\n",
            "Downloading batch 50 of 300\n",
            "Downloading batch 55 of 300\n",
            "Downloading batch 60 of 300\n",
            "Downloading batch 65 of 300\n",
            "Downloading batch 70 of 300\n",
            "Downloading batch 75 of 300\n",
            "Downloading batch 80 of 300\n",
            "Downloading batch 85 of 300\n",
            "Downloading batch 90 of 300\n",
            "Downloading batch 95 of 300\n",
            "Downloading batch 100 of 300\n",
            "Downloading batch 105 of 300\n",
            "Downloading batch 110 of 300\n",
            "Downloading batch 115 of 300\n",
            "Downloading batch 120 of 300\n",
            "Downloading batch 125 of 300\n",
            "Downloading batch 130 of 300\n",
            "Downloading batch 135 of 300\n",
            "Downloading batch 140 of 300\n",
            "Downloading batch 145 of 300\n",
            "Downloading batch 150 of 300\n",
            "Downloading batch 155 of 300\n",
            "Downloading batch 160 of 300\n",
            "Downloading batch 165 of 300\n",
            "Downloading batch 170 of 300\n",
            "Downloading batch 175 of 300\n",
            "Downloading batch 180 of 300\n",
            "Downloading batch 185 of 300\n",
            "Downloading batch 190 of 300\n",
            "Downloading batch 195 of 300\n",
            "Downloading batch 200 of 300\n",
            "Downloading batch 205 of 300\n",
            "Downloading batch 210 of 300\n",
            "Downloading batch 215 of 300\n",
            "Downloading batch 220 of 300\n",
            "Downloading batch 225 of 300\n",
            "Downloading batch 230 of 300\n",
            "Downloading batch 235 of 300\n",
            "Downloading batch 240 of 300\n",
            "Downloading batch 245 of 300\n",
            "Downloading batch 250 of 300\n",
            "Downloading batch 255 of 300\n",
            "Downloading batch 260 of 300\n",
            "Downloading batch 265 of 300\n",
            "Downloading batch 270 of 300\n",
            "Downloading batch 275 of 300\n",
            "Downloading batch 280 of 300\n",
            "Downloading batch 285 of 300\n",
            "Downloading batch 290 of 300\n",
            "Downloading batch 295 of 300\n",
            "Downloading batch 300 of 300\n",
            "<<<SCRAPING COMPLETED>>>\n",
            "Number of posts downloaded: 7438\n",
            "Number of unique posts: 818\n"
          ]
        }
      ],
      "source": [
        "# call the function \n",
        "stress_scraped = [] \n",
        "\n",
        "# 50 batches of 26\n",
        "reddit_scrape(\"https://www.reddit.com/r/stress.json\", 300, stress_scraped)"
      ]
    },
    {
      "cell_type": "code",
      "execution_count": 10,
      "metadata": {
        "id": "VQSyQO8Jy8In"
      },
      "outputs": [],
      "source": [
        "# function that scrapes the data \n",
        "def create_unique_list(original_scrape_list, new_list_name):\n",
        "  data_name_list =[] \n",
        "  for i in range(len(original_scrape_list)):\n",
        "    # name is the unique name assigned to each post \n",
        "    # if the name of the post is not already in data_name_list \n",
        "    # then add it to the new_list_name \n",
        "    if original_scrape_list[i][\"data\"][\"name\"] not in data_name_list:\n",
        "      new_list_name.append(original_scrape_list[i][\"data\"])\n",
        "      data_name_list.append(original_scrape_list[i][\"data\"][\"name\"])\n",
        "  print(f\"List now contains {len(new_list_name)} unique scraped posts\")"
      ]
    },
    {
      "cell_type": "code",
      "execution_count": 11,
      "metadata": {
        "colab": {
          "base_uri": "https://localhost:8080/"
        },
        "id": "KNwO1oMnkIQu",
        "outputId": "97f75c2a-e833-4ddf-c413-6044d2e460c2"
      },
      "outputs": [
        {
          "name": "stdout",
          "output_type": "stream",
          "text": [
            "List now contains 818 unique scraped posts\n"
          ]
        }
      ],
      "source": [
        "stress_scraped_unique = [] \n",
        "create_unique_list(stress_scraped, stress_scraped_unique)"
      ]
    },
    {
      "cell_type": "code",
      "execution_count": 75,
      "metadata": {
        "id": "Xd4dnFLyklc9"
      },
      "outputs": [],
      "source": [
        "# putting the data into a dataframe saving to csv \n",
        "stress = pd.DataFrame(stress_scraped_unique)\n",
        "# naively assign stress label to every post \n",
        "stress[\"is_stress\"] = 1 \n",
        "stress.to_csv(\"stress.csv\")"
      ]
    },
    {
      "cell_type": "code",
      "execution_count": 74,
      "metadata": {
        "colab": {
          "base_uri": "https://localhost:8080/",
          "height": 664
        },
        "id": "4AR6ZwDmN0Bg",
        "outputId": "577ecb8b-c459-4c32-d402-6f17eb149d28"
      },
      "outputs": [
        {
          "data": {
            "text/html": [
              "\n",
              "  <div id=\"df-8316c7a7-1534-4efd-92bb-a0bfb10ac204\">\n",
              "    <div class=\"colab-df-container\">\n",
              "      <div>\n",
              "<style scoped>\n",
              "    .dataframe tbody tr th:only-of-type {\n",
              "        vertical-align: middle;\n",
              "    }\n",
              "\n",
              "    .dataframe tbody tr th {\n",
              "        vertical-align: top;\n",
              "    }\n",
              "\n",
              "    .dataframe thead th {\n",
              "        text-align: right;\n",
              "    }\n",
              "</style>\n",
              "<table border=\"1\" class=\"dataframe\">\n",
              "  <thead>\n",
              "    <tr style=\"text-align: right;\">\n",
              "      <th></th>\n",
              "      <th>approved_at_utc</th>\n",
              "      <th>subreddit</th>\n",
              "      <th>selftext</th>\n",
              "      <th>author_fullname</th>\n",
              "      <th>saved</th>\n",
              "      <th>mod_reason_title</th>\n",
              "      <th>gilded</th>\n",
              "      <th>clicked</th>\n",
              "      <th>title</th>\n",
              "      <th>link_flair_richtext</th>\n",
              "      <th>...</th>\n",
              "      <th>num_crossposts</th>\n",
              "      <th>media</th>\n",
              "      <th>is_video</th>\n",
              "      <th>call_to_action</th>\n",
              "      <th>poll_data</th>\n",
              "      <th>author_cakeday</th>\n",
              "      <th>crosspost_parent_list</th>\n",
              "      <th>url_overridden_by_dest</th>\n",
              "      <th>crosspost_parent</th>\n",
              "      <th>is_stress</th>\n",
              "    </tr>\n",
              "  </thead>\n",
              "  <tbody>\n",
              "    <tr>\n",
              "      <th>0</th>\n",
              "      <td>None</td>\n",
              "      <td>Stress</td>\n",
              "      <td>The book is available [Here](https://thewellne...</td>\n",
              "      <td>t2_3adaf</td>\n",
              "      <td>False</td>\n",
              "      <td>None</td>\n",
              "      <td>0</td>\n",
              "      <td>False</td>\n",
              "      <td>Free Covid-19 Anxiety e-Workbook. Please, take...</td>\n",
              "      <td>[]</td>\n",
              "      <td>...</td>\n",
              "      <td>1</td>\n",
              "      <td>None</td>\n",
              "      <td>False</td>\n",
              "      <td>None</td>\n",
              "      <td>None</td>\n",
              "      <td>None</td>\n",
              "      <td>None</td>\n",
              "      <td>None</td>\n",
              "      <td>None</td>\n",
              "      <td>1</td>\n",
              "    </tr>\n",
              "    <tr>\n",
              "      <th>1</th>\n",
              "      <td>None</td>\n",
              "      <td>Stress</td>\n",
              "      <td>I am currently at my wits end with my job.  \\n...</td>\n",
              "      <td>t2_4yp9irp9</td>\n",
              "      <td>False</td>\n",
              "      <td>None</td>\n",
              "      <td>0</td>\n",
              "      <td>False</td>\n",
              "      <td>Stress leave from work</td>\n",
              "      <td>[]</td>\n",
              "      <td>...</td>\n",
              "      <td>0</td>\n",
              "      <td>None</td>\n",
              "      <td>False</td>\n",
              "      <td>None</td>\n",
              "      <td>None</td>\n",
              "      <td>None</td>\n",
              "      <td>None</td>\n",
              "      <td>None</td>\n",
              "      <td>None</td>\n",
              "      <td>1</td>\n",
              "    </tr>\n",
              "    <tr>\n",
              "      <th>2</th>\n",
              "      <td>None</td>\n",
              "      <td>Stress</td>\n",
              "      <td></td>\n",
              "      <td>t2_815ykpup</td>\n",
              "      <td>False</td>\n",
              "      <td>None</td>\n",
              "      <td>0</td>\n",
              "      <td>False</td>\n",
              "      <td>Is it normal that I lose appetite when I’m so ...</td>\n",
              "      <td>[]</td>\n",
              "      <td>...</td>\n",
              "      <td>0</td>\n",
              "      <td>None</td>\n",
              "      <td>False</td>\n",
              "      <td>None</td>\n",
              "      <td>None</td>\n",
              "      <td>None</td>\n",
              "      <td>None</td>\n",
              "      <td>None</td>\n",
              "      <td>None</td>\n",
              "      <td>1</td>\n",
              "    </tr>\n",
              "    <tr>\n",
              "      <th>3</th>\n",
              "      <td>None</td>\n",
              "      <td>Stress</td>\n",
              "      <td>I feel very stressed, but since I live at my p...</td>\n",
              "      <td>t2_5mvda6wc</td>\n",
              "      <td>False</td>\n",
              "      <td>None</td>\n",
              "      <td>0</td>\n",
              "      <td>False</td>\n",
              "      <td>Is there a way to measure how stressed I am ri...</td>\n",
              "      <td>[]</td>\n",
              "      <td>...</td>\n",
              "      <td>0</td>\n",
              "      <td>None</td>\n",
              "      <td>False</td>\n",
              "      <td>None</td>\n",
              "      <td>None</td>\n",
              "      <td>None</td>\n",
              "      <td>None</td>\n",
              "      <td>None</td>\n",
              "      <td>None</td>\n",
              "      <td>1</td>\n",
              "    </tr>\n",
              "    <tr>\n",
              "      <th>4</th>\n",
              "      <td>None</td>\n",
              "      <td>Stress</td>\n",
              "      <td>i don’t know how to fix this. every time I fin...</td>\n",
              "      <td>t2_c8sfjcku</td>\n",
              "      <td>False</td>\n",
              "      <td>None</td>\n",
              "      <td>0</td>\n",
              "      <td>False</td>\n",
              "      <td>does anyone else get a headache when they try ...</td>\n",
              "      <td>[]</td>\n",
              "      <td>...</td>\n",
              "      <td>0</td>\n",
              "      <td>None</td>\n",
              "      <td>False</td>\n",
              "      <td>None</td>\n",
              "      <td>None</td>\n",
              "      <td>None</td>\n",
              "      <td>None</td>\n",
              "      <td>None</td>\n",
              "      <td>None</td>\n",
              "      <td>1</td>\n",
              "    </tr>\n",
              "  </tbody>\n",
              "</table>\n",
              "<p>5 rows × 115 columns</p>\n",
              "</div>\n",
              "      <button class=\"colab-df-convert\" onclick=\"convertToInteractive('df-8316c7a7-1534-4efd-92bb-a0bfb10ac204')\"\n",
              "              title=\"Convert this dataframe to an interactive table.\"\n",
              "              style=\"display:none;\">\n",
              "        \n",
              "  <svg xmlns=\"http://www.w3.org/2000/svg\" height=\"24px\"viewBox=\"0 0 24 24\"\n",
              "       width=\"24px\">\n",
              "    <path d=\"M0 0h24v24H0V0z\" fill=\"none\"/>\n",
              "    <path d=\"M18.56 5.44l.94 2.06.94-2.06 2.06-.94-2.06-.94-.94-2.06-.94 2.06-2.06.94zm-11 1L8.5 8.5l.94-2.06 2.06-.94-2.06-.94L8.5 2.5l-.94 2.06-2.06.94zm10 10l.94 2.06.94-2.06 2.06-.94-2.06-.94-.94-2.06-.94 2.06-2.06.94z\"/><path d=\"M17.41 7.96l-1.37-1.37c-.4-.4-.92-.59-1.43-.59-.52 0-1.04.2-1.43.59L10.3 9.45l-7.72 7.72c-.78.78-.78 2.05 0 2.83L4 21.41c.39.39.9.59 1.41.59.51 0 1.02-.2 1.41-.59l7.78-7.78 2.81-2.81c.8-.78.8-2.07 0-2.86zM5.41 20L4 18.59l7.72-7.72 1.47 1.35L5.41 20z\"/>\n",
              "  </svg>\n",
              "      </button>\n",
              "      \n",
              "  <style>\n",
              "    .colab-df-container {\n",
              "      display:flex;\n",
              "      flex-wrap:wrap;\n",
              "      gap: 12px;\n",
              "    }\n",
              "\n",
              "    .colab-df-convert {\n",
              "      background-color: #E8F0FE;\n",
              "      border: none;\n",
              "      border-radius: 50%;\n",
              "      cursor: pointer;\n",
              "      display: none;\n",
              "      fill: #1967D2;\n",
              "      height: 32px;\n",
              "      padding: 0 0 0 0;\n",
              "      width: 32px;\n",
              "    }\n",
              "\n",
              "    .colab-df-convert:hover {\n",
              "      background-color: #E2EBFA;\n",
              "      box-shadow: 0px 1px 2px rgba(60, 64, 67, 0.3), 0px 1px 3px 1px rgba(60, 64, 67, 0.15);\n",
              "      fill: #174EA6;\n",
              "    }\n",
              "\n",
              "    [theme=dark] .colab-df-convert {\n",
              "      background-color: #3B4455;\n",
              "      fill: #D2E3FC;\n",
              "    }\n",
              "\n",
              "    [theme=dark] .colab-df-convert:hover {\n",
              "      background-color: #434B5C;\n",
              "      box-shadow: 0px 1px 3px 1px rgba(0, 0, 0, 0.15);\n",
              "      filter: drop-shadow(0px 1px 2px rgba(0, 0, 0, 0.3));\n",
              "      fill: #FFFFFF;\n",
              "    }\n",
              "  </style>\n",
              "\n",
              "      <script>\n",
              "        const buttonEl =\n",
              "          document.querySelector('#df-8316c7a7-1534-4efd-92bb-a0bfb10ac204 button.colab-df-convert');\n",
              "        buttonEl.style.display =\n",
              "          google.colab.kernel.accessAllowed ? 'block' : 'none';\n",
              "\n",
              "        async function convertToInteractive(key) {\n",
              "          const element = document.querySelector('#df-8316c7a7-1534-4efd-92bb-a0bfb10ac204');\n",
              "          const dataTable =\n",
              "            await google.colab.kernel.invokeFunction('convertToInteractive',\n",
              "                                                     [key], {});\n",
              "          if (!dataTable) return;\n",
              "\n",
              "          const docLinkHtml = 'Like what you see? Visit the ' +\n",
              "            '<a target=\"_blank\" href=https://colab.research.google.com/notebooks/data_table.ipynb>data table notebook</a>'\n",
              "            + ' to learn more about interactive tables.';\n",
              "          element.innerHTML = '';\n",
              "          dataTable['output_type'] = 'display_data';\n",
              "          await google.colab.output.renderOutput(dataTable, element);\n",
              "          const docLink = document.createElement('div');\n",
              "          docLink.innerHTML = docLinkHtml;\n",
              "          element.appendChild(docLink);\n",
              "        }\n",
              "      </script>\n",
              "    </div>\n",
              "  </div>\n",
              "  "
            ],
            "text/plain": [
              "  approved_at_utc subreddit  \\\n",
              "0            None    Stress   \n",
              "1            None    Stress   \n",
              "2            None    Stress   \n",
              "3            None    Stress   \n",
              "4            None    Stress   \n",
              "\n",
              "                                            selftext author_fullname  saved  \\\n",
              "0  The book is available [Here](https://thewellne...        t2_3adaf  False   \n",
              "1  I am currently at my wits end with my job.  \\n...     t2_4yp9irp9  False   \n",
              "2                                                        t2_815ykpup  False   \n",
              "3  I feel very stressed, but since I live at my p...     t2_5mvda6wc  False   \n",
              "4  i don’t know how to fix this. every time I fin...     t2_c8sfjcku  False   \n",
              "\n",
              "  mod_reason_title  gilded  clicked  \\\n",
              "0             None       0    False   \n",
              "1             None       0    False   \n",
              "2             None       0    False   \n",
              "3             None       0    False   \n",
              "4             None       0    False   \n",
              "\n",
              "                                               title link_flair_richtext  ...  \\\n",
              "0  Free Covid-19 Anxiety e-Workbook. Please, take...                  []  ...   \n",
              "1                             Stress leave from work                  []  ...   \n",
              "2  Is it normal that I lose appetite when I’m so ...                  []  ...   \n",
              "3  Is there a way to measure how stressed I am ri...                  []  ...   \n",
              "4  does anyone else get a headache when they try ...                  []  ...   \n",
              "\n",
              "  num_crossposts  media  is_video call_to_action  poll_data  author_cakeday  \\\n",
              "0              1   None     False           None       None            None   \n",
              "1              0   None     False           None       None            None   \n",
              "2              0   None     False           None       None            None   \n",
              "3              0   None     False           None       None            None   \n",
              "4              0   None     False           None       None            None   \n",
              "\n",
              "  crosspost_parent_list  url_overridden_by_dest crosspost_parent  is_stress  \n",
              "0                  None                    None             None          1  \n",
              "1                  None                    None             None          1  \n",
              "2                  None                    None             None          1  \n",
              "3                  None                    None             None          1  \n",
              "4                  None                    None             None          1  \n",
              "\n",
              "[5 rows x 115 columns]"
            ]
          },
          "execution_count": 74,
          "metadata": {},
          "output_type": "execute_result"
        }
      ],
      "source": [
        "stress.head()"
      ]
    },
    {
      "cell_type": "code",
      "execution_count": 29,
      "metadata": {
        "id": "wnjhGVrOgh8q"
      },
      "outputs": [],
      "source": [
        "url_anxiety = \"https://www.reddit.com/r/anxiety.json\""
      ]
    },
    {
      "cell_type": "code",
      "execution_count": 30,
      "metadata": {
        "colab": {
          "base_uri": "https://localhost:8080/"
        },
        "id": "CH1U1tcAv8DT",
        "outputId": "020fbb3d-6960-40f6-8f84-0b4fada25b3a"
      },
      "outputs": [
        {
          "name": "stdout",
          "output_type": "stream",
          "text": [
            "SCRAPING https://www.reddit.com/r/anxiety.json\n",
            "--------------------------------------------------\n",
            "<<<SCRAPING COMMENCED>>>\n",
            "Downloading Batch 1 of 50\n",
            "Downloading batch 5 of 50\n",
            "Downloading batch 10 of 50\n",
            "Downloading batch 15 of 50\n",
            "Downloading batch 20 of 50\n",
            "Downloading batch 25 of 50\n",
            "Downloading batch 30 of 50\n",
            "Downloading batch 35 of 50\n",
            "Downloading batch 40 of 50\n",
            "Downloading batch 45 of 50\n",
            "Downloading batch 50 of 50\n",
            "<<<SCRAPING COMPLETED>>>\n",
            "Number of posts downloaded: 1243\n",
            "Number of unique posts: 991\n"
          ]
        }
      ],
      "source": [
        "anxiety_scraped = []\n",
        "reddit_scrape(url_anxiety, 50, anxiety_scraped)"
      ]
    },
    {
      "cell_type": "code",
      "execution_count": 31,
      "metadata": {
        "colab": {
          "base_uri": "https://localhost:8080/"
        },
        "id": "sW7YvN0fwfRg",
        "outputId": "19bad165-14cb-4807-9ca8-d296e7407b97"
      },
      "outputs": [
        {
          "name": "stdout",
          "output_type": "stream",
          "text": [
            "List now contains 991 unique scraped posts\n"
          ]
        }
      ],
      "source": [
        "anxiety_scraped_unique = []\n",
        "create_unique_list(anxiety_scraped, anxiety_scraped_unique)"
      ]
    },
    {
      "cell_type": "code",
      "execution_count": 34,
      "metadata": {
        "colab": {
          "base_uri": "https://localhost:8080/",
          "height": 751
        },
        "id": "NgJI9uyYxWOY",
        "outputId": "762a07a9-0edc-4b5b-b3fc-b626f47264a1"
      },
      "outputs": [
        {
          "data": {
            "text/html": [
              "\n",
              "  <div id=\"df-341fd864-0af3-4e51-98c8-be31aed2b046\">\n",
              "    <div class=\"colab-df-container\">\n",
              "      <div>\n",
              "<style scoped>\n",
              "    .dataframe tbody tr th:only-of-type {\n",
              "        vertical-align: middle;\n",
              "    }\n",
              "\n",
              "    .dataframe tbody tr th {\n",
              "        vertical-align: top;\n",
              "    }\n",
              "\n",
              "    .dataframe thead th {\n",
              "        text-align: right;\n",
              "    }\n",
              "</style>\n",
              "<table border=\"1\" class=\"dataframe\">\n",
              "  <thead>\n",
              "    <tr style=\"text-align: right;\">\n",
              "      <th></th>\n",
              "      <th>approved_at_utc</th>\n",
              "      <th>subreddit</th>\n",
              "      <th>selftext</th>\n",
              "      <th>author_fullname</th>\n",
              "      <th>saved</th>\n",
              "      <th>mod_reason_title</th>\n",
              "      <th>gilded</th>\n",
              "      <th>clicked</th>\n",
              "      <th>title</th>\n",
              "      <th>link_flair_richtext</th>\n",
              "      <th>...</th>\n",
              "      <th>subreddit_subscribers</th>\n",
              "      <th>created_utc</th>\n",
              "      <th>num_crossposts</th>\n",
              "      <th>media</th>\n",
              "      <th>is_video</th>\n",
              "      <th>call_to_action</th>\n",
              "      <th>post_hint</th>\n",
              "      <th>preview</th>\n",
              "      <th>author_cakeday</th>\n",
              "      <th>is_stress</th>\n",
              "    </tr>\n",
              "  </thead>\n",
              "  <tbody>\n",
              "    <tr>\n",
              "      <th>0</th>\n",
              "      <td>None</td>\n",
              "      <td>Anxiety</td>\n",
              "      <td>Happy Sunday /r/Anxiety! \\n\\nIt's everyone's f...</td>\n",
              "      <td>t2_6l4z3</td>\n",
              "      <td>False</td>\n",
              "      <td>None</td>\n",
              "      <td>0</td>\n",
              "      <td>False</td>\n",
              "      <td>Set your intention</td>\n",
              "      <td>[]</td>\n",
              "      <td>...</td>\n",
              "      <td>538319</td>\n",
              "      <td>1.650193e+09</td>\n",
              "      <td>0</td>\n",
              "      <td>None</td>\n",
              "      <td>False</td>\n",
              "      <td>None</td>\n",
              "      <td>None</td>\n",
              "      <td>None</td>\n",
              "      <td>None</td>\n",
              "      <td>1</td>\n",
              "    </tr>\n",
              "    <tr>\n",
              "      <th>1</th>\n",
              "      <td>None</td>\n",
              "      <td>Anxiety</td>\n",
              "      <td>If you are suffering from anxiety related to t...</td>\n",
              "      <td>t2_9awrwk94</td>\n",
              "      <td>False</td>\n",
              "      <td>None</td>\n",
              "      <td>0</td>\n",
              "      <td>False</td>\n",
              "      <td>Ukraine Anxiety</td>\n",
              "      <td>[]</td>\n",
              "      <td>...</td>\n",
              "      <td>538319</td>\n",
              "      <td>1.650061e+09</td>\n",
              "      <td>0</td>\n",
              "      <td>None</td>\n",
              "      <td>False</td>\n",
              "      <td>None</td>\n",
              "      <td>None</td>\n",
              "      <td>None</td>\n",
              "      <td>None</td>\n",
              "      <td>1</td>\n",
              "    </tr>\n",
              "    <tr>\n",
              "      <th>2</th>\n",
              "      <td>None</td>\n",
              "      <td>Anxiety</td>\n",
              "      <td>Any tips for getting sleep? I have these racin...</td>\n",
              "      <td>t2_iv9lz0v8</td>\n",
              "      <td>False</td>\n",
              "      <td>None</td>\n",
              "      <td>0</td>\n",
              "      <td>False</td>\n",
              "      <td>HELP I've been struggling getting sleep. Any t...</td>\n",
              "      <td>[]</td>\n",
              "      <td>...</td>\n",
              "      <td>538319</td>\n",
              "      <td>1.650414e+09</td>\n",
              "      <td>0</td>\n",
              "      <td>None</td>\n",
              "      <td>False</td>\n",
              "      <td>None</td>\n",
              "      <td>None</td>\n",
              "      <td>None</td>\n",
              "      <td>None</td>\n",
              "      <td>1</td>\n",
              "    </tr>\n",
              "    <tr>\n",
              "      <th>3</th>\n",
              "      <td>None</td>\n",
              "      <td>Anxiety</td>\n",
              "      <td>I was speaking to a friend today about how I f...</td>\n",
              "      <td>t2_3swjjb1s</td>\n",
              "      <td>False</td>\n",
              "      <td>None</td>\n",
              "      <td>0</td>\n",
              "      <td>False</td>\n",
              "      <td>I don’t think people truly realize how debilit...</td>\n",
              "      <td>[]</td>\n",
              "      <td>...</td>\n",
              "      <td>538319</td>\n",
              "      <td>1.650417e+09</td>\n",
              "      <td>0</td>\n",
              "      <td>None</td>\n",
              "      <td>False</td>\n",
              "      <td>None</td>\n",
              "      <td>None</td>\n",
              "      <td>None</td>\n",
              "      <td>None</td>\n",
              "      <td>1</td>\n",
              "    </tr>\n",
              "    <tr>\n",
              "      <th>4</th>\n",
              "      <td>None</td>\n",
              "      <td>Anxiety</td>\n",
              "      <td>When I get upset with myself or anxious, I fee...</td>\n",
              "      <td>t2_2qjy6h69</td>\n",
              "      <td>False</td>\n",
              "      <td>None</td>\n",
              "      <td>0</td>\n",
              "      <td>False</td>\n",
              "      <td>Does anyone else like to hide?</td>\n",
              "      <td>[]</td>\n",
              "      <td>...</td>\n",
              "      <td>538319</td>\n",
              "      <td>1.650376e+09</td>\n",
              "      <td>0</td>\n",
              "      <td>None</td>\n",
              "      <td>False</td>\n",
              "      <td>None</td>\n",
              "      <td>None</td>\n",
              "      <td>None</td>\n",
              "      <td>None</td>\n",
              "      <td>1</td>\n",
              "    </tr>\n",
              "  </tbody>\n",
              "</table>\n",
              "<p>5 rows × 112 columns</p>\n",
              "</div>\n",
              "      <button class=\"colab-df-convert\" onclick=\"convertToInteractive('df-341fd864-0af3-4e51-98c8-be31aed2b046')\"\n",
              "              title=\"Convert this dataframe to an interactive table.\"\n",
              "              style=\"display:none;\">\n",
              "        \n",
              "  <svg xmlns=\"http://www.w3.org/2000/svg\" height=\"24px\"viewBox=\"0 0 24 24\"\n",
              "       width=\"24px\">\n",
              "    <path d=\"M0 0h24v24H0V0z\" fill=\"none\"/>\n",
              "    <path d=\"M18.56 5.44l.94 2.06.94-2.06 2.06-.94-2.06-.94-.94-2.06-.94 2.06-2.06.94zm-11 1L8.5 8.5l.94-2.06 2.06-.94-2.06-.94L8.5 2.5l-.94 2.06-2.06.94zm10 10l.94 2.06.94-2.06 2.06-.94-2.06-.94-.94-2.06-.94 2.06-2.06.94z\"/><path d=\"M17.41 7.96l-1.37-1.37c-.4-.4-.92-.59-1.43-.59-.52 0-1.04.2-1.43.59L10.3 9.45l-7.72 7.72c-.78.78-.78 2.05 0 2.83L4 21.41c.39.39.9.59 1.41.59.51 0 1.02-.2 1.41-.59l7.78-7.78 2.81-2.81c.8-.78.8-2.07 0-2.86zM5.41 20L4 18.59l7.72-7.72 1.47 1.35L5.41 20z\"/>\n",
              "  </svg>\n",
              "      </button>\n",
              "      \n",
              "  <style>\n",
              "    .colab-df-container {\n",
              "      display:flex;\n",
              "      flex-wrap:wrap;\n",
              "      gap: 12px;\n",
              "    }\n",
              "\n",
              "    .colab-df-convert {\n",
              "      background-color: #E8F0FE;\n",
              "      border: none;\n",
              "      border-radius: 50%;\n",
              "      cursor: pointer;\n",
              "      display: none;\n",
              "      fill: #1967D2;\n",
              "      height: 32px;\n",
              "      padding: 0 0 0 0;\n",
              "      width: 32px;\n",
              "    }\n",
              "\n",
              "    .colab-df-convert:hover {\n",
              "      background-color: #E2EBFA;\n",
              "      box-shadow: 0px 1px 2px rgba(60, 64, 67, 0.3), 0px 1px 3px 1px rgba(60, 64, 67, 0.15);\n",
              "      fill: #174EA6;\n",
              "    }\n",
              "\n",
              "    [theme=dark] .colab-df-convert {\n",
              "      background-color: #3B4455;\n",
              "      fill: #D2E3FC;\n",
              "    }\n",
              "\n",
              "    [theme=dark] .colab-df-convert:hover {\n",
              "      background-color: #434B5C;\n",
              "      box-shadow: 0px 1px 3px 1px rgba(0, 0, 0, 0.15);\n",
              "      filter: drop-shadow(0px 1px 2px rgba(0, 0, 0, 0.3));\n",
              "      fill: #FFFFFF;\n",
              "    }\n",
              "  </style>\n",
              "\n",
              "      <script>\n",
              "        const buttonEl =\n",
              "          document.querySelector('#df-341fd864-0af3-4e51-98c8-be31aed2b046 button.colab-df-convert');\n",
              "        buttonEl.style.display =\n",
              "          google.colab.kernel.accessAllowed ? 'block' : 'none';\n",
              "\n",
              "        async function convertToInteractive(key) {\n",
              "          const element = document.querySelector('#df-341fd864-0af3-4e51-98c8-be31aed2b046');\n",
              "          const dataTable =\n",
              "            await google.colab.kernel.invokeFunction('convertToInteractive',\n",
              "                                                     [key], {});\n",
              "          if (!dataTable) return;\n",
              "\n",
              "          const docLinkHtml = 'Like what you see? Visit the ' +\n",
              "            '<a target=\"_blank\" href=https://colab.research.google.com/notebooks/data_table.ipynb>data table notebook</a>'\n",
              "            + ' to learn more about interactive tables.';\n",
              "          element.innerHTML = '';\n",
              "          dataTable['output_type'] = 'display_data';\n",
              "          await google.colab.output.renderOutput(dataTable, element);\n",
              "          const docLink = document.createElement('div');\n",
              "          docLink.innerHTML = docLinkHtml;\n",
              "          element.appendChild(docLink);\n",
              "        }\n",
              "      </script>\n",
              "    </div>\n",
              "  </div>\n",
              "  "
            ],
            "text/plain": [
              "  approved_at_utc subreddit  \\\n",
              "0            None   Anxiety   \n",
              "1            None   Anxiety   \n",
              "2            None   Anxiety   \n",
              "3            None   Anxiety   \n",
              "4            None   Anxiety   \n",
              "\n",
              "                                            selftext author_fullname  saved  \\\n",
              "0  Happy Sunday /r/Anxiety! \\n\\nIt's everyone's f...        t2_6l4z3  False   \n",
              "1  If you are suffering from anxiety related to t...     t2_9awrwk94  False   \n",
              "2  Any tips for getting sleep? I have these racin...     t2_iv9lz0v8  False   \n",
              "3  I was speaking to a friend today about how I f...     t2_3swjjb1s  False   \n",
              "4  When I get upset with myself or anxious, I fee...     t2_2qjy6h69  False   \n",
              "\n",
              "  mod_reason_title  gilded  clicked  \\\n",
              "0             None       0    False   \n",
              "1             None       0    False   \n",
              "2             None       0    False   \n",
              "3             None       0    False   \n",
              "4             None       0    False   \n",
              "\n",
              "                                               title link_flair_richtext  ...  \\\n",
              "0                                 Set your intention                  []  ...   \n",
              "1                                    Ukraine Anxiety                  []  ...   \n",
              "2  HELP I've been struggling getting sleep. Any t...                  []  ...   \n",
              "3  I don’t think people truly realize how debilit...                  []  ...   \n",
              "4                     Does anyone else like to hide?                  []  ...   \n",
              "\n",
              "  subreddit_subscribers   created_utc  num_crossposts media  is_video  \\\n",
              "0                538319  1.650193e+09               0  None     False   \n",
              "1                538319  1.650061e+09               0  None     False   \n",
              "2                538319  1.650414e+09               0  None     False   \n",
              "3                538319  1.650417e+09               0  None     False   \n",
              "4                538319  1.650376e+09               0  None     False   \n",
              "\n",
              "   call_to_action post_hint  preview author_cakeday  is_stress  \n",
              "0            None      None     None           None          1  \n",
              "1            None      None     None           None          1  \n",
              "2            None      None     None           None          1  \n",
              "3            None      None     None           None          1  \n",
              "4            None      None     None           None          1  \n",
              "\n",
              "[5 rows x 112 columns]"
            ]
          },
          "execution_count": 34,
          "metadata": {},
          "output_type": "execute_result"
        }
      ],
      "source": [
        "anxiety = pd.DataFrame(anxiety_scraped_unique)\n",
        "anxiety[\"is_stress\"] = 1\n",
        "anxiety.head()"
      ]
    },
    {
      "cell_type": "code",
      "execution_count": 76,
      "metadata": {
        "id": "E1wqMBSXOFh5"
      },
      "outputs": [],
      "source": [
        "anxiety.to_csv(\"stress.csv\", mode='a')"
      ]
    },
    {
      "cell_type": "code",
      "execution_count": 35,
      "metadata": {
        "id": "rjNs87eswy0x"
      },
      "outputs": [],
      "source": [
        "url_homeless = \"https://www.reddit.com/r/almosthomeless.json\""
      ]
    },
    {
      "cell_type": "code",
      "execution_count": 38,
      "metadata": {
        "colab": {
          "base_uri": "https://localhost:8080/"
        },
        "id": "WevJK3Z10H8Q",
        "outputId": "dee046e8-8d34-44ac-de34-4b95ddfe3230"
      },
      "outputs": [
        {
          "name": "stdout",
          "output_type": "stream",
          "text": [
            "SCRAPING https://www.reddit.com/r/almosthomeless.json\n",
            "--------------------------------------------------\n",
            "<<<SCRAPING COMMENCED>>>\n",
            "Downloading Batch 1 of 50\n",
            "Downloading batch 5 of 50\n",
            "Downloading batch 10 of 50\n",
            "Downloading batch 15 of 50\n",
            "Downloading batch 20 of 50\n",
            "Downloading batch 25 of 50\n",
            "Downloading batch 30 of 50\n",
            "Downloading batch 35 of 50\n",
            "Downloading batch 40 of 50\n",
            "Downloading batch 45 of 50\n",
            "Downloading batch 50 of 50\n",
            "<<<SCRAPING COMPLETED>>>\n",
            "Number of posts downloaded: 1246\n",
            "Number of unique posts: 995\n"
          ]
        }
      ],
      "source": [
        "homeless_scraped = []\n",
        "reddit_scrape(url_homeless, 50, homeless_scraped)"
      ]
    },
    {
      "cell_type": "code",
      "execution_count": 39,
      "metadata": {
        "colab": {
          "base_uri": "https://localhost:8080/"
        },
        "id": "YB9KdQLU2ss2",
        "outputId": "32557a96-00fd-4c26-bc8a-ad28d5584444"
      },
      "outputs": [
        {
          "name": "stdout",
          "output_type": "stream",
          "text": [
            "List now contains 995 unique scraped posts\n"
          ]
        }
      ],
      "source": [
        "homeless_scraped_unique = []\n",
        "create_unique_list(homeless_scraped, homeless_scraped_unique)"
      ]
    },
    {
      "cell_type": "code",
      "execution_count": 78,
      "metadata": {
        "colab": {
          "base_uri": "https://localhost:8080/",
          "height": 647
        },
        "id": "MFaqQutQ68mk",
        "outputId": "abe56d8d-43c6-4ad4-8ee4-9003dc23ef9f"
      },
      "outputs": [
        {
          "data": {
            "text/html": [
              "\n",
              "  <div id=\"df-9fde8406-84d3-4eb3-af34-114c11178d21\">\n",
              "    <div class=\"colab-df-container\">\n",
              "      <div>\n",
              "<style scoped>\n",
              "    .dataframe tbody tr th:only-of-type {\n",
              "        vertical-align: middle;\n",
              "    }\n",
              "\n",
              "    .dataframe tbody tr th {\n",
              "        vertical-align: top;\n",
              "    }\n",
              "\n",
              "    .dataframe thead th {\n",
              "        text-align: right;\n",
              "    }\n",
              "</style>\n",
              "<table border=\"1\" class=\"dataframe\">\n",
              "  <thead>\n",
              "    <tr style=\"text-align: right;\">\n",
              "      <th></th>\n",
              "      <th>approved_at_utc</th>\n",
              "      <th>subreddit</th>\n",
              "      <th>selftext</th>\n",
              "      <th>user_reports</th>\n",
              "      <th>saved</th>\n",
              "      <th>mod_reason_title</th>\n",
              "      <th>gilded</th>\n",
              "      <th>clicked</th>\n",
              "      <th>title</th>\n",
              "      <th>link_flair_richtext</th>\n",
              "      <th>...</th>\n",
              "      <th>url</th>\n",
              "      <th>subreddit_subscribers</th>\n",
              "      <th>created_utc</th>\n",
              "      <th>num_crossposts</th>\n",
              "      <th>media</th>\n",
              "      <th>is_video</th>\n",
              "      <th>call_to_action</th>\n",
              "      <th>link_flair_template_id</th>\n",
              "      <th>author_cakeday</th>\n",
              "      <th>is_stress</th>\n",
              "    </tr>\n",
              "  </thead>\n",
              "  <tbody>\n",
              "    <tr>\n",
              "      <th>0</th>\n",
              "      <td>None</td>\n",
              "      <td>almosthomeless</td>\n",
              "      <td></td>\n",
              "      <td>[]</td>\n",
              "      <td>False</td>\n",
              "      <td>None</td>\n",
              "      <td>0</td>\n",
              "      <td>False</td>\n",
              "      <td>Don't give people money on here!</td>\n",
              "      <td>[]</td>\n",
              "      <td>...</td>\n",
              "      <td>/r/homeless/comments/994p7j/dont_give_people_m...</td>\n",
              "      <td>40523</td>\n",
              "      <td>1.579631e+09</td>\n",
              "      <td>0</td>\n",
              "      <td>None</td>\n",
              "      <td>False</td>\n",
              "      <td>NaN</td>\n",
              "      <td>NaN</td>\n",
              "      <td>NaN</td>\n",
              "      <td>1</td>\n",
              "    </tr>\n",
              "    <tr>\n",
              "      <th>1</th>\n",
              "      <td>None</td>\n",
              "      <td>almosthomeless</td>\n",
              "      <td>My landlord has threatened eviction throughout...</td>\n",
              "      <td>[]</td>\n",
              "      <td>False</td>\n",
              "      <td>None</td>\n",
              "      <td>0</td>\n",
              "      <td>False</td>\n",
              "      <td>Disabled 55 yr old facing eviction</td>\n",
              "      <td>[]</td>\n",
              "      <td>...</td>\n",
              "      <td>https://www.reddit.com/r/almosthomeless/commen...</td>\n",
              "      <td>40523</td>\n",
              "      <td>1.650392e+09</td>\n",
              "      <td>1</td>\n",
              "      <td>None</td>\n",
              "      <td>False</td>\n",
              "      <td></td>\n",
              "      <td>NaN</td>\n",
              "      <td>NaN</td>\n",
              "      <td>1</td>\n",
              "    </tr>\n",
              "    <tr>\n",
              "      <th>2</th>\n",
              "      <td>None</td>\n",
              "      <td>almosthomeless</td>\n",
              "      <td>So it started when I was wrongfully fired from...</td>\n",
              "      <td>[]</td>\n",
              "      <td>False</td>\n",
              "      <td>None</td>\n",
              "      <td>0</td>\n",
              "      <td>False</td>\n",
              "      <td>19f recently was fired for no real reason and ...</td>\n",
              "      <td>[]</td>\n",
              "      <td>...</td>\n",
              "      <td>https://www.reddit.com/r/almosthomeless/commen...</td>\n",
              "      <td>40523</td>\n",
              "      <td>1.650399e+09</td>\n",
              "      <td>0</td>\n",
              "      <td>None</td>\n",
              "      <td>False</td>\n",
              "      <td>NaN</td>\n",
              "      <td>bb935dde-20fe-11e5-a0b2-0e09b4299f63</td>\n",
              "      <td>NaN</td>\n",
              "      <td>1</td>\n",
              "    </tr>\n",
              "    <tr>\n",
              "      <th>3</th>\n",
              "      <td>None</td>\n",
              "      <td>almosthomeless</td>\n",
              "      <td>Me and my fiancé and our daughter live with my...</td>\n",
              "      <td>[]</td>\n",
              "      <td>False</td>\n",
              "      <td>None</td>\n",
              "      <td>0</td>\n",
              "      <td>False</td>\n",
              "      <td>What do I do?</td>\n",
              "      <td>[]</td>\n",
              "      <td>...</td>\n",
              "      <td>https://www.reddit.com/r/almosthomeless/commen...</td>\n",
              "      <td>40523</td>\n",
              "      <td>1.650387e+09</td>\n",
              "      <td>0</td>\n",
              "      <td>None</td>\n",
              "      <td>False</td>\n",
              "      <td>NaN</td>\n",
              "      <td>NaN</td>\n",
              "      <td>NaN</td>\n",
              "      <td>1</td>\n",
              "    </tr>\n",
              "    <tr>\n",
              "      <th>4</th>\n",
              "      <td>None</td>\n",
              "      <td>almosthomeless</td>\n",
              "      <td>I lived with my ex-gf for 2+ years. During tha...</td>\n",
              "      <td>[]</td>\n",
              "      <td>False</td>\n",
              "      <td>None</td>\n",
              "      <td>0</td>\n",
              "      <td>False</td>\n",
              "      <td>I lost everything</td>\n",
              "      <td>[]</td>\n",
              "      <td>...</td>\n",
              "      <td>https://www.reddit.com/r/almosthomeless/commen...</td>\n",
              "      <td>40523</td>\n",
              "      <td>1.650334e+09</td>\n",
              "      <td>0</td>\n",
              "      <td>None</td>\n",
              "      <td>False</td>\n",
              "      <td></td>\n",
              "      <td>NaN</td>\n",
              "      <td>NaN</td>\n",
              "      <td>1</td>\n",
              "    </tr>\n",
              "  </tbody>\n",
              "</table>\n",
              "<p>5 rows × 115 columns</p>\n",
              "</div>\n",
              "      <button class=\"colab-df-convert\" onclick=\"convertToInteractive('df-9fde8406-84d3-4eb3-af34-114c11178d21')\"\n",
              "              title=\"Convert this dataframe to an interactive table.\"\n",
              "              style=\"display:none;\">\n",
              "        \n",
              "  <svg xmlns=\"http://www.w3.org/2000/svg\" height=\"24px\"viewBox=\"0 0 24 24\"\n",
              "       width=\"24px\">\n",
              "    <path d=\"M0 0h24v24H0V0z\" fill=\"none\"/>\n",
              "    <path d=\"M18.56 5.44l.94 2.06.94-2.06 2.06-.94-2.06-.94-.94-2.06-.94 2.06-2.06.94zm-11 1L8.5 8.5l.94-2.06 2.06-.94-2.06-.94L8.5 2.5l-.94 2.06-2.06.94zm10 10l.94 2.06.94-2.06 2.06-.94-2.06-.94-.94-2.06-.94 2.06-2.06.94z\"/><path d=\"M17.41 7.96l-1.37-1.37c-.4-.4-.92-.59-1.43-.59-.52 0-1.04.2-1.43.59L10.3 9.45l-7.72 7.72c-.78.78-.78 2.05 0 2.83L4 21.41c.39.39.9.59 1.41.59.51 0 1.02-.2 1.41-.59l7.78-7.78 2.81-2.81c.8-.78.8-2.07 0-2.86zM5.41 20L4 18.59l7.72-7.72 1.47 1.35L5.41 20z\"/>\n",
              "  </svg>\n",
              "      </button>\n",
              "      \n",
              "  <style>\n",
              "    .colab-df-container {\n",
              "      display:flex;\n",
              "      flex-wrap:wrap;\n",
              "      gap: 12px;\n",
              "    }\n",
              "\n",
              "    .colab-df-convert {\n",
              "      background-color: #E8F0FE;\n",
              "      border: none;\n",
              "      border-radius: 50%;\n",
              "      cursor: pointer;\n",
              "      display: none;\n",
              "      fill: #1967D2;\n",
              "      height: 32px;\n",
              "      padding: 0 0 0 0;\n",
              "      width: 32px;\n",
              "    }\n",
              "\n",
              "    .colab-df-convert:hover {\n",
              "      background-color: #E2EBFA;\n",
              "      box-shadow: 0px 1px 2px rgba(60, 64, 67, 0.3), 0px 1px 3px 1px rgba(60, 64, 67, 0.15);\n",
              "      fill: #174EA6;\n",
              "    }\n",
              "\n",
              "    [theme=dark] .colab-df-convert {\n",
              "      background-color: #3B4455;\n",
              "      fill: #D2E3FC;\n",
              "    }\n",
              "\n",
              "    [theme=dark] .colab-df-convert:hover {\n",
              "      background-color: #434B5C;\n",
              "      box-shadow: 0px 1px 3px 1px rgba(0, 0, 0, 0.15);\n",
              "      filter: drop-shadow(0px 1px 2px rgba(0, 0, 0, 0.3));\n",
              "      fill: #FFFFFF;\n",
              "    }\n",
              "  </style>\n",
              "\n",
              "      <script>\n",
              "        const buttonEl =\n",
              "          document.querySelector('#df-9fde8406-84d3-4eb3-af34-114c11178d21 button.colab-df-convert');\n",
              "        buttonEl.style.display =\n",
              "          google.colab.kernel.accessAllowed ? 'block' : 'none';\n",
              "\n",
              "        async function convertToInteractive(key) {\n",
              "          const element = document.querySelector('#df-9fde8406-84d3-4eb3-af34-114c11178d21');\n",
              "          const dataTable =\n",
              "            await google.colab.kernel.invokeFunction('convertToInteractive',\n",
              "                                                     [key], {});\n",
              "          if (!dataTable) return;\n",
              "\n",
              "          const docLinkHtml = 'Like what you see? Visit the ' +\n",
              "            '<a target=\"_blank\" href=https://colab.research.google.com/notebooks/data_table.ipynb>data table notebook</a>'\n",
              "            + ' to learn more about interactive tables.';\n",
              "          element.innerHTML = '';\n",
              "          dataTable['output_type'] = 'display_data';\n",
              "          await google.colab.output.renderOutput(dataTable, element);\n",
              "          const docLink = document.createElement('div');\n",
              "          docLink.innerHTML = docLinkHtml;\n",
              "          element.appendChild(docLink);\n",
              "        }\n",
              "      </script>\n",
              "    </div>\n",
              "  </div>\n",
              "  "
            ],
            "text/plain": [
              "  approved_at_utc       subreddit  \\\n",
              "0            None  almosthomeless   \n",
              "1            None  almosthomeless   \n",
              "2            None  almosthomeless   \n",
              "3            None  almosthomeless   \n",
              "4            None  almosthomeless   \n",
              "\n",
              "                                            selftext user_reports  saved  \\\n",
              "0                                                              []  False   \n",
              "1  My landlord has threatened eviction throughout...           []  False   \n",
              "2  So it started when I was wrongfully fired from...           []  False   \n",
              "3  Me and my fiancé and our daughter live with my...           []  False   \n",
              "4  I lived with my ex-gf for 2+ years. During tha...           []  False   \n",
              "\n",
              "  mod_reason_title  gilded  clicked  \\\n",
              "0             None       0    False   \n",
              "1             None       0    False   \n",
              "2             None       0    False   \n",
              "3             None       0    False   \n",
              "4             None       0    False   \n",
              "\n",
              "                                               title link_flair_richtext  ...  \\\n",
              "0                   Don't give people money on here!                  []  ...   \n",
              "1                 Disabled 55 yr old facing eviction                  []  ...   \n",
              "2  19f recently was fired for no real reason and ...                  []  ...   \n",
              "3                                      What do I do?                  []  ...   \n",
              "4                                  I lost everything                  []  ...   \n",
              "\n",
              "                                                 url  subreddit_subscribers  \\\n",
              "0  /r/homeless/comments/994p7j/dont_give_people_m...                  40523   \n",
              "1  https://www.reddit.com/r/almosthomeless/commen...                  40523   \n",
              "2  https://www.reddit.com/r/almosthomeless/commen...                  40523   \n",
              "3  https://www.reddit.com/r/almosthomeless/commen...                  40523   \n",
              "4  https://www.reddit.com/r/almosthomeless/commen...                  40523   \n",
              "\n",
              "    created_utc num_crossposts  media  is_video call_to_action  \\\n",
              "0  1.579631e+09              0   None     False            NaN   \n",
              "1  1.650392e+09              1   None     False                  \n",
              "2  1.650399e+09              0   None     False            NaN   \n",
              "3  1.650387e+09              0   None     False            NaN   \n",
              "4  1.650334e+09              0   None     False                  \n",
              "\n",
              "                 link_flair_template_id author_cakeday  is_stress  \n",
              "0                                   NaN            NaN          1  \n",
              "1                                   NaN            NaN          1  \n",
              "2  bb935dde-20fe-11e5-a0b2-0e09b4299f63            NaN          1  \n",
              "3                                   NaN            NaN          1  \n",
              "4                                   NaN            NaN          1  \n",
              "\n",
              "[5 rows x 115 columns]"
            ]
          },
          "execution_count": 78,
          "metadata": {},
          "output_type": "execute_result"
        }
      ],
      "source": [
        "homeless = pd.DataFrame(homeless_scraped_unique)\n",
        "homeless[\"is_stress\"] = 1\n",
        "homeless.head()"
      ]
    },
    {
      "cell_type": "code",
      "execution_count": 79,
      "metadata": {
        "id": "nLk5XawhONLt"
      },
      "outputs": [],
      "source": [
        "homeless.to_csv(\"stress.csv\", mode='a')"
      ]
    },
    {
      "cell_type": "code",
      "execution_count": 41,
      "metadata": {
        "id": "FlvgXmKp7blR"
      },
      "outputs": [],
      "source": [
        "url_assistance = \"https://www.reddit.com/r/Assistance.json\""
      ]
    },
    {
      "cell_type": "code",
      "execution_count": 42,
      "metadata": {
        "colab": {
          "base_uri": "https://localhost:8080/"
        },
        "id": "NjLRgdfG7uMw",
        "outputId": "fca59095-eaf8-461a-8a85-143fbf3218be"
      },
      "outputs": [
        {
          "name": "stdout",
          "output_type": "stream",
          "text": [
            "SCRAPING https://www.reddit.com/r/Assistance.json\n",
            "--------------------------------------------------\n",
            "<<<SCRAPING COMMENCED>>>\n",
            "Downloading Batch 1 of 50\n",
            "Downloading batch 5 of 50\n",
            "Downloading batch 10 of 50\n",
            "Downloading batch 15 of 50\n",
            "Downloading batch 20 of 50\n",
            "Downloading batch 25 of 50\n",
            "Downloading batch 30 of 50\n",
            "Downloading batch 35 of 50\n",
            "Downloading batch 40 of 50\n",
            "Downloading batch 45 of 50\n",
            "Downloading batch 50 of 50\n",
            "<<<SCRAPING COMPLETED>>>\n",
            "Number of posts downloaded: 1208\n",
            "Number of unique posts: 528\n"
          ]
        }
      ],
      "source": [
        "assistance_scraped = []\n",
        "reddit_scrape(url_assistance, 50, assistance_scraped)"
      ]
    },
    {
      "cell_type": "code",
      "execution_count": 43,
      "metadata": {
        "colab": {
          "base_uri": "https://localhost:8080/"
        },
        "id": "nBFuIYMp77gc",
        "outputId": "e4594375-21a2-424f-fb3a-7b378075dcdc"
      },
      "outputs": [
        {
          "name": "stdout",
          "output_type": "stream",
          "text": [
            "List now contains 528 unique scraped posts\n"
          ]
        }
      ],
      "source": [
        "assistance_scraped_unique = []\n",
        "create_unique_list(assistance_scraped, assistance_scraped_unique)"
      ]
    },
    {
      "cell_type": "code",
      "execution_count": 44,
      "metadata": {
        "colab": {
          "base_uri": "https://localhost:8080/",
          "height": 664
        },
        "id": "FOkTJ6EM8SEu",
        "outputId": "514c66ab-f636-4b1a-eb4b-cfb292230ef7"
      },
      "outputs": [
        {
          "data": {
            "text/html": [
              "\n",
              "  <div id=\"df-80292697-c639-43ea-b2d1-339d897e2fd6\">\n",
              "    <div class=\"colab-df-container\">\n",
              "      <div>\n",
              "<style scoped>\n",
              "    .dataframe tbody tr th:only-of-type {\n",
              "        vertical-align: middle;\n",
              "    }\n",
              "\n",
              "    .dataframe tbody tr th {\n",
              "        vertical-align: top;\n",
              "    }\n",
              "\n",
              "    .dataframe thead th {\n",
              "        text-align: right;\n",
              "    }\n",
              "</style>\n",
              "<table border=\"1\" class=\"dataframe\">\n",
              "  <thead>\n",
              "    <tr style=\"text-align: right;\">\n",
              "      <th></th>\n",
              "      <th>approved_at_utc</th>\n",
              "      <th>subreddit</th>\n",
              "      <th>selftext</th>\n",
              "      <th>author_fullname</th>\n",
              "      <th>saved</th>\n",
              "      <th>mod_reason_title</th>\n",
              "      <th>gilded</th>\n",
              "      <th>clicked</th>\n",
              "      <th>title</th>\n",
              "      <th>link_flair_richtext</th>\n",
              "      <th>...</th>\n",
              "      <th>stickied</th>\n",
              "      <th>url</th>\n",
              "      <th>subreddit_subscribers</th>\n",
              "      <th>created_utc</th>\n",
              "      <th>num_crossposts</th>\n",
              "      <th>media</th>\n",
              "      <th>is_video</th>\n",
              "      <th>call_to_action</th>\n",
              "      <th>author_cakeday</th>\n",
              "      <th>is_stress</th>\n",
              "    </tr>\n",
              "  </thead>\n",
              "  <tbody>\n",
              "    <tr>\n",
              "      <th>0</th>\n",
              "      <td>None</td>\n",
              "      <td>Assistance</td>\n",
              "      <td>With a devastating war going on in Ukraine, ou...</td>\n",
              "      <td>t2_1c8b1t</td>\n",
              "      <td>False</td>\n",
              "      <td>None</td>\n",
              "      <td>0</td>\n",
              "      <td>False</td>\n",
              "      <td>Assistance related to the war in Ukraine</td>\n",
              "      <td>[]</td>\n",
              "      <td>...</td>\n",
              "      <td>True</td>\n",
              "      <td>https://www.reddit.com/r/Assistance/comments/t...</td>\n",
              "      <td>217869</td>\n",
              "      <td>1.646596e+09</td>\n",
              "      <td>0</td>\n",
              "      <td>None</td>\n",
              "      <td>False</td>\n",
              "      <td>NaN</td>\n",
              "      <td>NaN</td>\n",
              "      <td>1</td>\n",
              "    </tr>\n",
              "    <tr>\n",
              "      <th>1</th>\n",
              "      <td>None</td>\n",
              "      <td>Assistance</td>\n",
              "      <td>Aspiring is the man behind the magic here. He ...</td>\n",
              "      <td>t2_izjlr</td>\n",
              "      <td>False</td>\n",
              "      <td>None</td>\n",
              "      <td>1</td>\n",
              "      <td>False</td>\n",
              "      <td>Let's wish our genius mod u/AspiringInspirator...</td>\n",
              "      <td>[]</td>\n",
              "      <td>...</td>\n",
              "      <td>True</td>\n",
              "      <td>https://www.reddit.com/r/Assistance/comments/t...</td>\n",
              "      <td>217869</td>\n",
              "      <td>1.647100e+09</td>\n",
              "      <td>0</td>\n",
              "      <td>None</td>\n",
              "      <td>False</td>\n",
              "      <td>NaN</td>\n",
              "      <td>NaN</td>\n",
              "      <td>1</td>\n",
              "    </tr>\n",
              "    <tr>\n",
              "      <th>2</th>\n",
              "      <td>None</td>\n",
              "      <td>Assistance</td>\n",
              "      <td>I am the worst at asking for help so I have no...</td>\n",
              "      <td>t2_8i6ct1gn</td>\n",
              "      <td>False</td>\n",
              "      <td>None</td>\n",
              "      <td>0</td>\n",
              "      <td>False</td>\n",
              "      <td>Swallowing my pride and asking for help with f...</td>\n",
              "      <td>[]</td>\n",
              "      <td>...</td>\n",
              "      <td>False</td>\n",
              "      <td>https://www.reddit.com/r/Assistance/comments/u...</td>\n",
              "      <td>217869</td>\n",
              "      <td>1.650395e+09</td>\n",
              "      <td>0</td>\n",
              "      <td>None</td>\n",
              "      <td>False</td>\n",
              "      <td>NaN</td>\n",
              "      <td>NaN</td>\n",
              "      <td>1</td>\n",
              "    </tr>\n",
              "    <tr>\n",
              "      <th>3</th>\n",
              "      <td>None</td>\n",
              "      <td>Assistance</td>\n",
              "      <td>if I give you an award, please go ahead and DM...</td>\n",
              "      <td>t2_k6bbtni7</td>\n",
              "      <td>False</td>\n",
              "      <td>None</td>\n",
              "      <td>0</td>\n",
              "      <td>False</td>\n",
              "      <td>OFFER. I have a spare £30, around 40 dollars, ...</td>\n",
              "      <td>[]</td>\n",
              "      <td>...</td>\n",
              "      <td>False</td>\n",
              "      <td>https://www.reddit.com/r/Assistance/comments/u...</td>\n",
              "      <td>217869</td>\n",
              "      <td>1.650441e+09</td>\n",
              "      <td>0</td>\n",
              "      <td>None</td>\n",
              "      <td>False</td>\n",
              "      <td></td>\n",
              "      <td>NaN</td>\n",
              "      <td>1</td>\n",
              "    </tr>\n",
              "    <tr>\n",
              "      <th>4</th>\n",
              "      <td>None</td>\n",
              "      <td>Assistance</td>\n",
              "      <td>Times are really tough right now. In a month i...</td>\n",
              "      <td>t2_15kc3g</td>\n",
              "      <td>False</td>\n",
              "      <td>None</td>\n",
              "      <td>0</td>\n",
              "      <td>False</td>\n",
              "      <td>19 year old hanging on by a thread.</td>\n",
              "      <td>[]</td>\n",
              "      <td>...</td>\n",
              "      <td>False</td>\n",
              "      <td>https://www.reddit.com/r/Assistance/comments/u...</td>\n",
              "      <td>217869</td>\n",
              "      <td>1.650433e+09</td>\n",
              "      <td>0</td>\n",
              "      <td>None</td>\n",
              "      <td>False</td>\n",
              "      <td>NaN</td>\n",
              "      <td>NaN</td>\n",
              "      <td>1</td>\n",
              "    </tr>\n",
              "  </tbody>\n",
              "</table>\n",
              "<p>5 rows × 108 columns</p>\n",
              "</div>\n",
              "      <button class=\"colab-df-convert\" onclick=\"convertToInteractive('df-80292697-c639-43ea-b2d1-339d897e2fd6')\"\n",
              "              title=\"Convert this dataframe to an interactive table.\"\n",
              "              style=\"display:none;\">\n",
              "        \n",
              "  <svg xmlns=\"http://www.w3.org/2000/svg\" height=\"24px\"viewBox=\"0 0 24 24\"\n",
              "       width=\"24px\">\n",
              "    <path d=\"M0 0h24v24H0V0z\" fill=\"none\"/>\n",
              "    <path d=\"M18.56 5.44l.94 2.06.94-2.06 2.06-.94-2.06-.94-.94-2.06-.94 2.06-2.06.94zm-11 1L8.5 8.5l.94-2.06 2.06-.94-2.06-.94L8.5 2.5l-.94 2.06-2.06.94zm10 10l.94 2.06.94-2.06 2.06-.94-2.06-.94-.94-2.06-.94 2.06-2.06.94z\"/><path d=\"M17.41 7.96l-1.37-1.37c-.4-.4-.92-.59-1.43-.59-.52 0-1.04.2-1.43.59L10.3 9.45l-7.72 7.72c-.78.78-.78 2.05 0 2.83L4 21.41c.39.39.9.59 1.41.59.51 0 1.02-.2 1.41-.59l7.78-7.78 2.81-2.81c.8-.78.8-2.07 0-2.86zM5.41 20L4 18.59l7.72-7.72 1.47 1.35L5.41 20z\"/>\n",
              "  </svg>\n",
              "      </button>\n",
              "      \n",
              "  <style>\n",
              "    .colab-df-container {\n",
              "      display:flex;\n",
              "      flex-wrap:wrap;\n",
              "      gap: 12px;\n",
              "    }\n",
              "\n",
              "    .colab-df-convert {\n",
              "      background-color: #E8F0FE;\n",
              "      border: none;\n",
              "      border-radius: 50%;\n",
              "      cursor: pointer;\n",
              "      display: none;\n",
              "      fill: #1967D2;\n",
              "      height: 32px;\n",
              "      padding: 0 0 0 0;\n",
              "      width: 32px;\n",
              "    }\n",
              "\n",
              "    .colab-df-convert:hover {\n",
              "      background-color: #E2EBFA;\n",
              "      box-shadow: 0px 1px 2px rgba(60, 64, 67, 0.3), 0px 1px 3px 1px rgba(60, 64, 67, 0.15);\n",
              "      fill: #174EA6;\n",
              "    }\n",
              "\n",
              "    [theme=dark] .colab-df-convert {\n",
              "      background-color: #3B4455;\n",
              "      fill: #D2E3FC;\n",
              "    }\n",
              "\n",
              "    [theme=dark] .colab-df-convert:hover {\n",
              "      background-color: #434B5C;\n",
              "      box-shadow: 0px 1px 3px 1px rgba(0, 0, 0, 0.15);\n",
              "      filter: drop-shadow(0px 1px 2px rgba(0, 0, 0, 0.3));\n",
              "      fill: #FFFFFF;\n",
              "    }\n",
              "  </style>\n",
              "\n",
              "      <script>\n",
              "        const buttonEl =\n",
              "          document.querySelector('#df-80292697-c639-43ea-b2d1-339d897e2fd6 button.colab-df-convert');\n",
              "        buttonEl.style.display =\n",
              "          google.colab.kernel.accessAllowed ? 'block' : 'none';\n",
              "\n",
              "        async function convertToInteractive(key) {\n",
              "          const element = document.querySelector('#df-80292697-c639-43ea-b2d1-339d897e2fd6');\n",
              "          const dataTable =\n",
              "            await google.colab.kernel.invokeFunction('convertToInteractive',\n",
              "                                                     [key], {});\n",
              "          if (!dataTable) return;\n",
              "\n",
              "          const docLinkHtml = 'Like what you see? Visit the ' +\n",
              "            '<a target=\"_blank\" href=https://colab.research.google.com/notebooks/data_table.ipynb>data table notebook</a>'\n",
              "            + ' to learn more about interactive tables.';\n",
              "          element.innerHTML = '';\n",
              "          dataTable['output_type'] = 'display_data';\n",
              "          await google.colab.output.renderOutput(dataTable, element);\n",
              "          const docLink = document.createElement('div');\n",
              "          docLink.innerHTML = docLinkHtml;\n",
              "          element.appendChild(docLink);\n",
              "        }\n",
              "      </script>\n",
              "    </div>\n",
              "  </div>\n",
              "  "
            ],
            "text/plain": [
              "  approved_at_utc   subreddit  \\\n",
              "0            None  Assistance   \n",
              "1            None  Assistance   \n",
              "2            None  Assistance   \n",
              "3            None  Assistance   \n",
              "4            None  Assistance   \n",
              "\n",
              "                                            selftext author_fullname  saved  \\\n",
              "0  With a devastating war going on in Ukraine, ou...       t2_1c8b1t  False   \n",
              "1  Aspiring is the man behind the magic here. He ...        t2_izjlr  False   \n",
              "2  I am the worst at asking for help so I have no...     t2_8i6ct1gn  False   \n",
              "3  if I give you an award, please go ahead and DM...     t2_k6bbtni7  False   \n",
              "4  Times are really tough right now. In a month i...       t2_15kc3g  False   \n",
              "\n",
              "  mod_reason_title  gilded  clicked  \\\n",
              "0             None       0    False   \n",
              "1             None       1    False   \n",
              "2             None       0    False   \n",
              "3             None       0    False   \n",
              "4             None       0    False   \n",
              "\n",
              "                                               title link_flair_richtext  ...  \\\n",
              "0           Assistance related to the war in Ukraine                  []  ...   \n",
              "1  Let's wish our genius mod u/AspiringInspirator...                  []  ...   \n",
              "2  Swallowing my pride and asking for help with f...                  []  ...   \n",
              "3  OFFER. I have a spare £30, around 40 dollars, ...                  []  ...   \n",
              "4                19 year old hanging on by a thread.                  []  ...   \n",
              "\n",
              "  stickied                                                url  \\\n",
              "0     True  https://www.reddit.com/r/Assistance/comments/t...   \n",
              "1     True  https://www.reddit.com/r/Assistance/comments/t...   \n",
              "2    False  https://www.reddit.com/r/Assistance/comments/u...   \n",
              "3    False  https://www.reddit.com/r/Assistance/comments/u...   \n",
              "4    False  https://www.reddit.com/r/Assistance/comments/u...   \n",
              "\n",
              "   subreddit_subscribers   created_utc  num_crossposts media  is_video  \\\n",
              "0                 217869  1.646596e+09               0  None     False   \n",
              "1                 217869  1.647100e+09               0  None     False   \n",
              "2                 217869  1.650395e+09               0  None     False   \n",
              "3                 217869  1.650441e+09               0  None     False   \n",
              "4                 217869  1.650433e+09               0  None     False   \n",
              "\n",
              "  call_to_action  author_cakeday is_stress  \n",
              "0            NaN             NaN         1  \n",
              "1            NaN             NaN         1  \n",
              "2            NaN             NaN         1  \n",
              "3                            NaN         1  \n",
              "4            NaN             NaN         1  \n",
              "\n",
              "[5 rows x 108 columns]"
            ]
          },
          "execution_count": 44,
          "metadata": {},
          "output_type": "execute_result"
        }
      ],
      "source": [
        "assistance = pd.DataFrame(assistance_scraped_unique)\n",
        "assistance[\"is_stress\"] = 1 \n",
        "assistance.head()"
      ]
    },
    {
      "cell_type": "code",
      "execution_count": 80,
      "metadata": {
        "id": "hFxGDkkeOsz-"
      },
      "outputs": [],
      "source": [
        "assistance.to_csv(\"stress.csv\", mode='a')"
      ]
    },
    {
      "cell_type": "code",
      "execution_count": 81,
      "metadata": {
        "id": "VeWncQ3tPaXr"
      },
      "outputs": [],
      "source": [
        "# Non-stress data \n",
        "# Lana start running from here \n",
        "url_casual = \"https://www.reddit.com/r/CasualConversation/\""
      ]
    },
    {
      "cell_type": "code",
      "execution_count": 82,
      "metadata": {
        "colab": {
          "base_uri": "https://localhost:8080/",
          "height": 882
        },
        "id": "nKHlmZkKPfFG",
        "outputId": "c853b72d-ec63-4158-e87f-6a46801acced"
      },
      "outputs": [
        {
          "name": "stdout",
          "output_type": "stream",
          "text": [
            "SCRAPING https://www.reddit.com/r/CasualConversation/\n",
            "--------------------------------------------------\n",
            "<<<SCRAPING COMMENCED>>>\n",
            "Downloading Batch 1 of 50\n"
          ]
        },
        {
          "ename": "JSONDecodeError",
          "evalue": "ignored",
          "output_type": "error",
          "traceback": [
            "\u001b[0;31m---------------------------------------------------------------------------\u001b[0m",
            "\u001b[0;31mJSONDecodeError\u001b[0m                           Traceback (most recent call last)",
            "\u001b[0;32m<ipython-input-82-e19c4a925ca7>\u001b[0m in \u001b[0;36m<module>\u001b[0;34m()\u001b[0m\n\u001b[1;32m      1\u001b[0m \u001b[0mcasual_scraped\u001b[0m \u001b[0;34m=\u001b[0m \u001b[0;34m[\u001b[0m\u001b[0;34m]\u001b[0m\u001b[0;34m\u001b[0m\u001b[0;34m\u001b[0m\u001b[0m\n\u001b[0;32m----> 2\u001b[0;31m \u001b[0mreddit_scrape\u001b[0m\u001b[0;34m(\u001b[0m\u001b[0murl_casual\u001b[0m\u001b[0;34m,\u001b[0m \u001b[0;36m50\u001b[0m\u001b[0;34m,\u001b[0m \u001b[0mcasual_scraped\u001b[0m\u001b[0;34m)\u001b[0m\u001b[0;34m\u001b[0m\u001b[0;34m\u001b[0m\u001b[0m\n\u001b[0m",
            "\u001b[0;32m<ipython-input-5-1aa5e0f55e1d>\u001b[0m in \u001b[0;36mreddit_scrape\u001b[0;34m(url_string, number_of_scrapes, output_list)\u001b[0m\n\u001b[1;32m     17\u001b[0m     \u001b[0mres\u001b[0m \u001b[0;34m=\u001b[0m \u001b[0mrequests\u001b[0m\u001b[0;34m.\u001b[0m\u001b[0mget\u001b[0m\u001b[0;34m(\u001b[0m\u001b[0murl_string\u001b[0m\u001b[0;34m,\u001b[0m \u001b[0mparams\u001b[0m\u001b[0;34m=\u001b[0m\u001b[0mparams\u001b[0m\u001b[0;34m,\u001b[0m \u001b[0mheaders\u001b[0m\u001b[0;34m=\u001b[0m\u001b[0mheaders\u001b[0m\u001b[0;34m)\u001b[0m\u001b[0;34m\u001b[0m\u001b[0;34m\u001b[0m\u001b[0m\n\u001b[1;32m     18\u001b[0m     \u001b[0;32mif\u001b[0m \u001b[0mres\u001b[0m\u001b[0;34m.\u001b[0m\u001b[0mstatus_code\u001b[0m \u001b[0;34m==\u001b[0m \u001b[0;36m200\u001b[0m\u001b[0;34m:\u001b[0m\u001b[0;34m\u001b[0m\u001b[0;34m\u001b[0m\u001b[0m\n\u001b[0;32m---> 19\u001b[0;31m       \u001b[0mthe_json\u001b[0m \u001b[0;34m=\u001b[0m \u001b[0mres\u001b[0m\u001b[0;34m.\u001b[0m\u001b[0mjson\u001b[0m\u001b[0;34m(\u001b[0m\u001b[0;34m)\u001b[0m\u001b[0;34m\u001b[0m\u001b[0;34m\u001b[0m\u001b[0m\n\u001b[0m\u001b[1;32m     20\u001b[0m       \u001b[0moutput_list\u001b[0m\u001b[0;34m.\u001b[0m\u001b[0mextend\u001b[0m\u001b[0;34m(\u001b[0m\u001b[0mthe_json\u001b[0m\u001b[0;34m[\u001b[0m\u001b[0;34m\"data\"\u001b[0m\u001b[0;34m]\u001b[0m\u001b[0;34m[\u001b[0m\u001b[0;34m\"children\"\u001b[0m\u001b[0;34m]\u001b[0m\u001b[0;34m)\u001b[0m\u001b[0;34m\u001b[0m\u001b[0;34m\u001b[0m\u001b[0m\n\u001b[1;32m     21\u001b[0m       \u001b[0mafter\u001b[0m \u001b[0;34m=\u001b[0m \u001b[0mthe_json\u001b[0m\u001b[0;34m[\u001b[0m\u001b[0;34m\"data\"\u001b[0m\u001b[0;34m]\u001b[0m\u001b[0;34m[\u001b[0m\u001b[0;34m\"after\"\u001b[0m\u001b[0;34m]\u001b[0m\u001b[0;34m\u001b[0m\u001b[0;34m\u001b[0m\u001b[0m\n",
            "\u001b[0;32m/usr/local/lib/python3.7/dist-packages/requests/models.py\u001b[0m in \u001b[0;36mjson\u001b[0;34m(self, **kwargs)\u001b[0m\n\u001b[1;32m    896\u001b[0m                     \u001b[0;31m# used.\u001b[0m\u001b[0;34m\u001b[0m\u001b[0;34m\u001b[0m\u001b[0;34m\u001b[0m\u001b[0m\n\u001b[1;32m    897\u001b[0m                     \u001b[0;32mpass\u001b[0m\u001b[0;34m\u001b[0m\u001b[0;34m\u001b[0m\u001b[0m\n\u001b[0;32m--> 898\u001b[0;31m         \u001b[0;32mreturn\u001b[0m \u001b[0mcomplexjson\u001b[0m\u001b[0;34m.\u001b[0m\u001b[0mloads\u001b[0m\u001b[0;34m(\u001b[0m\u001b[0mself\u001b[0m\u001b[0;34m.\u001b[0m\u001b[0mtext\u001b[0m\u001b[0;34m,\u001b[0m \u001b[0;34m**\u001b[0m\u001b[0mkwargs\u001b[0m\u001b[0;34m)\u001b[0m\u001b[0;34m\u001b[0m\u001b[0;34m\u001b[0m\u001b[0m\n\u001b[0m\u001b[1;32m    899\u001b[0m \u001b[0;34m\u001b[0m\u001b[0m\n\u001b[1;32m    900\u001b[0m     \u001b[0;34m@\u001b[0m\u001b[0mproperty\u001b[0m\u001b[0;34m\u001b[0m\u001b[0;34m\u001b[0m\u001b[0m\n",
            "\u001b[0;32m/usr/lib/python3.7/json/__init__.py\u001b[0m in \u001b[0;36mloads\u001b[0;34m(s, encoding, cls, object_hook, parse_float, parse_int, parse_constant, object_pairs_hook, **kw)\u001b[0m\n\u001b[1;32m    346\u001b[0m             \u001b[0mparse_int\u001b[0m \u001b[0;32mis\u001b[0m \u001b[0;32mNone\u001b[0m \u001b[0;32mand\u001b[0m \u001b[0mparse_float\u001b[0m \u001b[0;32mis\u001b[0m \u001b[0;32mNone\u001b[0m \u001b[0;32mand\u001b[0m\u001b[0;34m\u001b[0m\u001b[0;34m\u001b[0m\u001b[0m\n\u001b[1;32m    347\u001b[0m             parse_constant is None and object_pairs_hook is None and not kw):\n\u001b[0;32m--> 348\u001b[0;31m         \u001b[0;32mreturn\u001b[0m \u001b[0m_default_decoder\u001b[0m\u001b[0;34m.\u001b[0m\u001b[0mdecode\u001b[0m\u001b[0;34m(\u001b[0m\u001b[0ms\u001b[0m\u001b[0;34m)\u001b[0m\u001b[0;34m\u001b[0m\u001b[0;34m\u001b[0m\u001b[0m\n\u001b[0m\u001b[1;32m    349\u001b[0m     \u001b[0;32mif\u001b[0m \u001b[0mcls\u001b[0m \u001b[0;32mis\u001b[0m \u001b[0;32mNone\u001b[0m\u001b[0;34m:\u001b[0m\u001b[0;34m\u001b[0m\u001b[0;34m\u001b[0m\u001b[0m\n\u001b[1;32m    350\u001b[0m         \u001b[0mcls\u001b[0m \u001b[0;34m=\u001b[0m \u001b[0mJSONDecoder\u001b[0m\u001b[0;34m\u001b[0m\u001b[0;34m\u001b[0m\u001b[0m\n",
            "\u001b[0;32m/usr/lib/python3.7/json/decoder.py\u001b[0m in \u001b[0;36mdecode\u001b[0;34m(self, s, _w)\u001b[0m\n\u001b[1;32m    335\u001b[0m \u001b[0;34m\u001b[0m\u001b[0m\n\u001b[1;32m    336\u001b[0m         \"\"\"\n\u001b[0;32m--> 337\u001b[0;31m         \u001b[0mobj\u001b[0m\u001b[0;34m,\u001b[0m \u001b[0mend\u001b[0m \u001b[0;34m=\u001b[0m \u001b[0mself\u001b[0m\u001b[0;34m.\u001b[0m\u001b[0mraw_decode\u001b[0m\u001b[0;34m(\u001b[0m\u001b[0ms\u001b[0m\u001b[0;34m,\u001b[0m \u001b[0midx\u001b[0m\u001b[0;34m=\u001b[0m\u001b[0m_w\u001b[0m\u001b[0;34m(\u001b[0m\u001b[0ms\u001b[0m\u001b[0;34m,\u001b[0m \u001b[0;36m0\u001b[0m\u001b[0;34m)\u001b[0m\u001b[0;34m.\u001b[0m\u001b[0mend\u001b[0m\u001b[0;34m(\u001b[0m\u001b[0;34m)\u001b[0m\u001b[0;34m)\u001b[0m\u001b[0;34m\u001b[0m\u001b[0;34m\u001b[0m\u001b[0m\n\u001b[0m\u001b[1;32m    338\u001b[0m         \u001b[0mend\u001b[0m \u001b[0;34m=\u001b[0m \u001b[0m_w\u001b[0m\u001b[0;34m(\u001b[0m\u001b[0ms\u001b[0m\u001b[0;34m,\u001b[0m \u001b[0mend\u001b[0m\u001b[0;34m)\u001b[0m\u001b[0;34m.\u001b[0m\u001b[0mend\u001b[0m\u001b[0;34m(\u001b[0m\u001b[0;34m)\u001b[0m\u001b[0;34m\u001b[0m\u001b[0;34m\u001b[0m\u001b[0m\n\u001b[1;32m    339\u001b[0m         \u001b[0;32mif\u001b[0m \u001b[0mend\u001b[0m \u001b[0;34m!=\u001b[0m \u001b[0mlen\u001b[0m\u001b[0;34m(\u001b[0m\u001b[0ms\u001b[0m\u001b[0;34m)\u001b[0m\u001b[0;34m:\u001b[0m\u001b[0;34m\u001b[0m\u001b[0;34m\u001b[0m\u001b[0m\n",
            "\u001b[0;32m/usr/lib/python3.7/json/decoder.py\u001b[0m in \u001b[0;36mraw_decode\u001b[0;34m(self, s, idx)\u001b[0m\n\u001b[1;32m    353\u001b[0m             \u001b[0mobj\u001b[0m\u001b[0;34m,\u001b[0m \u001b[0mend\u001b[0m \u001b[0;34m=\u001b[0m \u001b[0mself\u001b[0m\u001b[0;34m.\u001b[0m\u001b[0mscan_once\u001b[0m\u001b[0;34m(\u001b[0m\u001b[0ms\u001b[0m\u001b[0;34m,\u001b[0m \u001b[0midx\u001b[0m\u001b[0;34m)\u001b[0m\u001b[0;34m\u001b[0m\u001b[0;34m\u001b[0m\u001b[0m\n\u001b[1;32m    354\u001b[0m         \u001b[0;32mexcept\u001b[0m \u001b[0mStopIteration\u001b[0m \u001b[0;32mas\u001b[0m \u001b[0merr\u001b[0m\u001b[0;34m:\u001b[0m\u001b[0;34m\u001b[0m\u001b[0;34m\u001b[0m\u001b[0m\n\u001b[0;32m--> 355\u001b[0;31m             \u001b[0;32mraise\u001b[0m \u001b[0mJSONDecodeError\u001b[0m\u001b[0;34m(\u001b[0m\u001b[0;34m\"Expecting value\"\u001b[0m\u001b[0;34m,\u001b[0m \u001b[0ms\u001b[0m\u001b[0;34m,\u001b[0m \u001b[0merr\u001b[0m\u001b[0;34m.\u001b[0m\u001b[0mvalue\u001b[0m\u001b[0;34m)\u001b[0m \u001b[0;32mfrom\u001b[0m \u001b[0;32mNone\u001b[0m\u001b[0;34m\u001b[0m\u001b[0;34m\u001b[0m\u001b[0m\n\u001b[0m\u001b[1;32m    356\u001b[0m         \u001b[0;32mreturn\u001b[0m \u001b[0mobj\u001b[0m\u001b[0;34m,\u001b[0m \u001b[0mend\u001b[0m\u001b[0;34m\u001b[0m\u001b[0;34m\u001b[0m\u001b[0m\n",
            "\u001b[0;31mJSONDecodeError\u001b[0m: Expecting value: line 2 column 5 (char 5)"
          ]
        }
      ],
      "source": [
        "casual_scraped = []\n",
        "reddit_scrape(url_casual, 50, casual_scraped)"
      ]
    },
    {
      "cell_type": "code",
      "execution_count": 69,
      "metadata": {
        "id": "FRbQp41L8w9W"
      },
      "outputs": [],
      "source": [
        "url_food = \"https://www.reddit.com/r/stress/\"\n",
        "# headers = {\"User-agent\" : \"randuser\"}\n",
        "# res = requests.get(url, headers=headers)\n",
        "# res.status_code "
      ]
    },
    {
      "cell_type": "code",
      "execution_count": 60,
      "metadata": {
        "id": "PobDqHhL-NGG"
      },
      "outputs": [],
      "source": [
        "# homeless_var = res.json()"
      ]
    },
    {
      "cell_type": "code",
      "execution_count": 65,
      "metadata": {
        "colab": {
          "base_uri": "https://localhost:8080/",
          "height": 168
        },
        "id": "Cw8IzyBY-qDS",
        "outputId": "25fdb48d-c648-487e-f04d-3b0259474e58"
      },
      "outputs": [
        {
          "ename": "KeyError",
          "evalue": "ignored",
          "output_type": "error",
          "traceback": [
            "\u001b[0;31m---------------------------------------------------------------------------\u001b[0m",
            "\u001b[0;31mKeyError\u001b[0m                                  Traceback (most recent call last)",
            "\u001b[0;32m<ipython-input-65-592b52c8eea1>\u001b[0m in \u001b[0;36m<module>\u001b[0;34m()\u001b[0m\n\u001b[0;32m----> 1\u001b[0;31m \u001b[0mhomeless_var\u001b[0m\u001b[0;34m[\u001b[0m\u001b[0;34m\"data\"\u001b[0m\u001b[0;34m]\u001b[0m\u001b[0;34m[\u001b[0m\u001b[0;34m\"selftext\"\u001b[0m\u001b[0;34m]\u001b[0m\u001b[0;34m\u001b[0m\u001b[0;34m\u001b[0m\u001b[0m\n\u001b[0m",
            "\u001b[0;31mKeyError\u001b[0m: 'selftext'"
          ]
        }
      ],
      "source": []
    },
    {
      "cell_type": "code",
      "execution_count": 70,
      "metadata": {
        "colab": {
          "base_uri": "https://localhost:8080/",
          "height": 387
        },
        "id": "JmTSM1bM8-k7",
        "outputId": "bf6503ff-274a-4e26-cf2f-9e49848349ef"
      },
      "outputs": [
        {
          "name": "stdout",
          "output_type": "stream",
          "text": [
            "SCRAPING https://www.reddit.com/r/stress/\n",
            "--------------------------------------------------\n",
            "<<<SCRAPING COMMENCED>>>\n",
            "Downloading Batch 1 of 50\n"
          ]
        },
        {
          "ename": "JSONDecodeError",
          "evalue": "ignored",
          "output_type": "error",
          "traceback": [
            "\u001b[0;31m---------------------------------------------------------------------------\u001b[0m",
            "\u001b[0;31mJSONDecodeError\u001b[0m                           Traceback (most recent call last)",
            "\u001b[0;32m<ipython-input-70-af8c690d288d>\u001b[0m in \u001b[0;36m<module>\u001b[0;34m()\u001b[0m\n\u001b[1;32m      1\u001b[0m \u001b[0mfood_scraped\u001b[0m \u001b[0;34m=\u001b[0m \u001b[0;34m[\u001b[0m\u001b[0;34m]\u001b[0m\u001b[0;34m\u001b[0m\u001b[0;34m\u001b[0m\u001b[0m\n\u001b[0;32m----> 2\u001b[0;31m \u001b[0mreddit_scrape\u001b[0m\u001b[0;34m(\u001b[0m\u001b[0murl_food\u001b[0m\u001b[0;34m,\u001b[0m \u001b[0;36m50\u001b[0m\u001b[0;34m,\u001b[0m \u001b[0mfood_scraped\u001b[0m\u001b[0;34m)\u001b[0m\u001b[0;34m\u001b[0m\u001b[0;34m\u001b[0m\u001b[0m\n\u001b[0m",
            "\u001b[0;32m<ipython-input-5-1aa5e0f55e1d>\u001b[0m in \u001b[0;36mreddit_scrape\u001b[0;34m(url_string, number_of_scrapes, output_list)\u001b[0m\n\u001b[1;32m     17\u001b[0m     \u001b[0mres\u001b[0m \u001b[0;34m=\u001b[0m \u001b[0mrequests\u001b[0m\u001b[0;34m.\u001b[0m\u001b[0mget\u001b[0m\u001b[0;34m(\u001b[0m\u001b[0murl_string\u001b[0m\u001b[0;34m,\u001b[0m \u001b[0mparams\u001b[0m\u001b[0;34m=\u001b[0m\u001b[0mparams\u001b[0m\u001b[0;34m,\u001b[0m \u001b[0mheaders\u001b[0m\u001b[0;34m=\u001b[0m\u001b[0mheaders\u001b[0m\u001b[0;34m)\u001b[0m\u001b[0;34m\u001b[0m\u001b[0;34m\u001b[0m\u001b[0m\n\u001b[1;32m     18\u001b[0m     \u001b[0;32mif\u001b[0m \u001b[0mres\u001b[0m\u001b[0;34m.\u001b[0m\u001b[0mstatus_code\u001b[0m \u001b[0;34m==\u001b[0m \u001b[0;36m200\u001b[0m\u001b[0;34m:\u001b[0m\u001b[0;34m\u001b[0m\u001b[0;34m\u001b[0m\u001b[0m\n\u001b[0;32m---> 19\u001b[0;31m       \u001b[0mthe_json\u001b[0m \u001b[0;34m=\u001b[0m \u001b[0mres\u001b[0m\u001b[0;34m.\u001b[0m\u001b[0mjson\u001b[0m\u001b[0;34m(\u001b[0m\u001b[0;34m)\u001b[0m\u001b[0;34m\u001b[0m\u001b[0;34m\u001b[0m\u001b[0m\n\u001b[0m\u001b[1;32m     20\u001b[0m       \u001b[0moutput_list\u001b[0m\u001b[0;34m.\u001b[0m\u001b[0mextend\u001b[0m\u001b[0;34m(\u001b[0m\u001b[0mthe_json\u001b[0m\u001b[0;34m[\u001b[0m\u001b[0;34m\"data\"\u001b[0m\u001b[0;34m]\u001b[0m\u001b[0;34m[\u001b[0m\u001b[0;34m\"children\"\u001b[0m\u001b[0;34m]\u001b[0m\u001b[0;34m)\u001b[0m\u001b[0;34m\u001b[0m\u001b[0;34m\u001b[0m\u001b[0m\n\u001b[1;32m     21\u001b[0m       \u001b[0mafter\u001b[0m \u001b[0;34m=\u001b[0m \u001b[0mthe_json\u001b[0m\u001b[0;34m[\u001b[0m\u001b[0;34m\"data\"\u001b[0m\u001b[0;34m]\u001b[0m\u001b[0;34m[\u001b[0m\u001b[0;34m\"after\"\u001b[0m\u001b[0;34m]\u001b[0m\u001b[0;34m\u001b[0m\u001b[0;34m\u001b[0m\u001b[0m\n",
            "\u001b[0;32m/usr/local/lib/python3.7/dist-packages/requests/models.py\u001b[0m in \u001b[0;36mjson\u001b[0;34m(self, **kwargs)\u001b[0m\n\u001b[1;32m    896\u001b[0m                     \u001b[0;31m# used.\u001b[0m\u001b[0;34m\u001b[0m\u001b[0;34m\u001b[0m\u001b[0;34m\u001b[0m\u001b[0m\n\u001b[1;32m    897\u001b[0m                     \u001b[0;32mpass\u001b[0m\u001b[0;34m\u001b[0m\u001b[0;34m\u001b[0m\u001b[0m\n\u001b[0;32m--> 898\u001b[0;31m         \u001b[0;32mreturn\u001b[0m \u001b[0mcomplexjson\u001b[0m\u001b[0;34m.\u001b[0m\u001b[0mloads\u001b[0m\u001b[0;34m(\u001b[0m\u001b[0mself\u001b[0m\u001b[0;34m.\u001b[0m\u001b[0mtext\u001b[0m\u001b[0;34m,\u001b[0m \u001b[0;34m**\u001b[0m\u001b[0mkwargs\u001b[0m\u001b[0;34m)\u001b[0m\u001b[0;34m\u001b[0m\u001b[0;34m\u001b[0m\u001b[0m\n\u001b[0m\u001b[1;32m    899\u001b[0m \u001b[0;34m\u001b[0m\u001b[0m\n\u001b[1;32m    900\u001b[0m     \u001b[0;34m@\u001b[0m\u001b[0mproperty\u001b[0m\u001b[0;34m\u001b[0m\u001b[0;34m\u001b[0m\u001b[0m\n",
            "\u001b[0;32m/usr/lib/python3.7/json/__init__.py\u001b[0m in \u001b[0;36mloads\u001b[0;34m(s, encoding, cls, object_hook, parse_float, parse_int, parse_constant, object_pairs_hook, **kw)\u001b[0m\n\u001b[1;32m    346\u001b[0m             \u001b[0mparse_int\u001b[0m \u001b[0;32mis\u001b[0m \u001b[0;32mNone\u001b[0m \u001b[0;32mand\u001b[0m \u001b[0mparse_float\u001b[0m \u001b[0;32mis\u001b[0m \u001b[0;32mNone\u001b[0m \u001b[0;32mand\u001b[0m\u001b[0;34m\u001b[0m\u001b[0;34m\u001b[0m\u001b[0m\n\u001b[1;32m    347\u001b[0m             parse_constant is None and object_pairs_hook is None and not kw):\n\u001b[0;32m--> 348\u001b[0;31m         \u001b[0;32mreturn\u001b[0m \u001b[0m_default_decoder\u001b[0m\u001b[0;34m.\u001b[0m\u001b[0mdecode\u001b[0m\u001b[0;34m(\u001b[0m\u001b[0ms\u001b[0m\u001b[0;34m)\u001b[0m\u001b[0;34m\u001b[0m\u001b[0;34m\u001b[0m\u001b[0m\n\u001b[0m\u001b[1;32m    349\u001b[0m     \u001b[0;32mif\u001b[0m \u001b[0mcls\u001b[0m \u001b[0;32mis\u001b[0m \u001b[0;32mNone\u001b[0m\u001b[0;34m:\u001b[0m\u001b[0;34m\u001b[0m\u001b[0;34m\u001b[0m\u001b[0m\n\u001b[1;32m    350\u001b[0m         \u001b[0mcls\u001b[0m \u001b[0;34m=\u001b[0m \u001b[0mJSONDecoder\u001b[0m\u001b[0;34m\u001b[0m\u001b[0;34m\u001b[0m\u001b[0m\n",
            "\u001b[0;32m/usr/lib/python3.7/json/decoder.py\u001b[0m in \u001b[0;36mdecode\u001b[0;34m(self, s, _w)\u001b[0m\n\u001b[1;32m    335\u001b[0m \u001b[0;34m\u001b[0m\u001b[0m\n\u001b[1;32m    336\u001b[0m         \"\"\"\n\u001b[0;32m--> 337\u001b[0;31m         \u001b[0mobj\u001b[0m\u001b[0;34m,\u001b[0m \u001b[0mend\u001b[0m \u001b[0;34m=\u001b[0m \u001b[0mself\u001b[0m\u001b[0;34m.\u001b[0m\u001b[0mraw_decode\u001b[0m\u001b[0;34m(\u001b[0m\u001b[0ms\u001b[0m\u001b[0;34m,\u001b[0m \u001b[0midx\u001b[0m\u001b[0;34m=\u001b[0m\u001b[0m_w\u001b[0m\u001b[0;34m(\u001b[0m\u001b[0ms\u001b[0m\u001b[0;34m,\u001b[0m \u001b[0;36m0\u001b[0m\u001b[0;34m)\u001b[0m\u001b[0;34m.\u001b[0m\u001b[0mend\u001b[0m\u001b[0;34m(\u001b[0m\u001b[0;34m)\u001b[0m\u001b[0;34m)\u001b[0m\u001b[0;34m\u001b[0m\u001b[0;34m\u001b[0m\u001b[0m\n\u001b[0m\u001b[1;32m    338\u001b[0m         \u001b[0mend\u001b[0m \u001b[0;34m=\u001b[0m \u001b[0m_w\u001b[0m\u001b[0;34m(\u001b[0m\u001b[0ms\u001b[0m\u001b[0;34m,\u001b[0m \u001b[0mend\u001b[0m\u001b[0;34m)\u001b[0m\u001b[0;34m.\u001b[0m\u001b[0mend\u001b[0m\u001b[0;34m(\u001b[0m\u001b[0;34m)\u001b[0m\u001b[0;34m\u001b[0m\u001b[0;34m\u001b[0m\u001b[0m\n\u001b[1;32m    339\u001b[0m         \u001b[0;32mif\u001b[0m \u001b[0mend\u001b[0m \u001b[0;34m!=\u001b[0m \u001b[0mlen\u001b[0m\u001b[0;34m(\u001b[0m\u001b[0ms\u001b[0m\u001b[0;34m)\u001b[0m\u001b[0;34m:\u001b[0m\u001b[0;34m\u001b[0m\u001b[0;34m\u001b[0m\u001b[0m\n",
            "\u001b[0;32m/usr/lib/python3.7/json/decoder.py\u001b[0m in \u001b[0;36mraw_decode\u001b[0;34m(self, s, idx)\u001b[0m\n\u001b[1;32m    353\u001b[0m             \u001b[0mobj\u001b[0m\u001b[0;34m,\u001b[0m \u001b[0mend\u001b[0m \u001b[0;34m=\u001b[0m \u001b[0mself\u001b[0m\u001b[0;34m.\u001b[0m\u001b[0mscan_once\u001b[0m\u001b[0;34m(\u001b[0m\u001b[0ms\u001b[0m\u001b[0;34m,\u001b[0m \u001b[0midx\u001b[0m\u001b[0;34m)\u001b[0m\u001b[0;34m\u001b[0m\u001b[0;34m\u001b[0m\u001b[0m\n\u001b[1;32m    354\u001b[0m         \u001b[0;32mexcept\u001b[0m \u001b[0mStopIteration\u001b[0m \u001b[0;32mas\u001b[0m \u001b[0merr\u001b[0m\u001b[0;34m:\u001b[0m\u001b[0;34m\u001b[0m\u001b[0;34m\u001b[0m\u001b[0m\n\u001b[0;32m--> 355\u001b[0;31m             \u001b[0;32mraise\u001b[0m \u001b[0mJSONDecodeError\u001b[0m\u001b[0;34m(\u001b[0m\u001b[0;34m\"Expecting value\"\u001b[0m\u001b[0;34m,\u001b[0m \u001b[0ms\u001b[0m\u001b[0;34m,\u001b[0m \u001b[0merr\u001b[0m\u001b[0;34m.\u001b[0m\u001b[0mvalue\u001b[0m\u001b[0;34m)\u001b[0m \u001b[0;32mfrom\u001b[0m \u001b[0;32mNone\u001b[0m\u001b[0;34m\u001b[0m\u001b[0;34m\u001b[0m\u001b[0m\n\u001b[0m\u001b[1;32m    356\u001b[0m         \u001b[0;32mreturn\u001b[0m \u001b[0mobj\u001b[0m\u001b[0;34m,\u001b[0m \u001b[0mend\u001b[0m\u001b[0;34m\u001b[0m\u001b[0;34m\u001b[0m\u001b[0m\n",
            "\u001b[0;31mJSONDecodeError\u001b[0m: Expecting value: line 2 column 5 (char 5)"
          ]
        }
      ],
      "source": [
        "food_scraped = []\n",
        "reddit_scrape(url_food, 50, food_scraped)"
      ]
    },
    {
      "cell_type": "code",
      "execution_count": 50,
      "metadata": {
        "id": "2uhkrA7V9Fd5"
      },
      "outputs": [],
      "source": [
        "url_homeless1 = \"https://www.reddit.com/r/homeless/\""
      ]
    },
    {
      "cell_type": "code",
      "execution_count": 52,
      "metadata": {
        "colab": {
          "base_uri": "https://localhost:8080/",
          "height": 882
        },
        "id": "StgWf8l39mqM",
        "outputId": "fc3fc14b-8184-4da6-96d7-df0e45079f6d"
      },
      "outputs": [
        {
          "name": "stdout",
          "output_type": "stream",
          "text": [
            "SCRAPING https://www.reddit.com/r/homeless/\n",
            "--------------------------------------------------\n",
            "<<<SCRAPING COMMENCED>>>\n",
            "Downloading Batch 1 of 50\n"
          ]
        },
        {
          "ename": "JSONDecodeError",
          "evalue": "ignored",
          "output_type": "error",
          "traceback": [
            "\u001b[0;31m---------------------------------------------------------------------------\u001b[0m",
            "\u001b[0;31mJSONDecodeError\u001b[0m                           Traceback (most recent call last)",
            "\u001b[0;32m<ipython-input-52-690742397ba3>\u001b[0m in \u001b[0;36m<module>\u001b[0;34m()\u001b[0m\n\u001b[1;32m      1\u001b[0m \u001b[0mhomeless1\u001b[0m \u001b[0;34m=\u001b[0m \u001b[0;34m[\u001b[0m\u001b[0;34m]\u001b[0m\u001b[0;34m\u001b[0m\u001b[0;34m\u001b[0m\u001b[0m\n\u001b[0;32m----> 2\u001b[0;31m \u001b[0mreddit_scrape\u001b[0m\u001b[0;34m(\u001b[0m\u001b[0murl_homeless1\u001b[0m\u001b[0;34m,\u001b[0m \u001b[0;36m50\u001b[0m\u001b[0;34m,\u001b[0m \u001b[0mhomeless1\u001b[0m\u001b[0;34m)\u001b[0m\u001b[0;34m\u001b[0m\u001b[0;34m\u001b[0m\u001b[0m\n\u001b[0m",
            "\u001b[0;32m<ipython-input-5-1aa5e0f55e1d>\u001b[0m in \u001b[0;36mreddit_scrape\u001b[0;34m(url_string, number_of_scrapes, output_list)\u001b[0m\n\u001b[1;32m     17\u001b[0m     \u001b[0mres\u001b[0m \u001b[0;34m=\u001b[0m \u001b[0mrequests\u001b[0m\u001b[0;34m.\u001b[0m\u001b[0mget\u001b[0m\u001b[0;34m(\u001b[0m\u001b[0murl_string\u001b[0m\u001b[0;34m,\u001b[0m \u001b[0mparams\u001b[0m\u001b[0;34m=\u001b[0m\u001b[0mparams\u001b[0m\u001b[0;34m,\u001b[0m \u001b[0mheaders\u001b[0m\u001b[0;34m=\u001b[0m\u001b[0mheaders\u001b[0m\u001b[0;34m)\u001b[0m\u001b[0;34m\u001b[0m\u001b[0;34m\u001b[0m\u001b[0m\n\u001b[1;32m     18\u001b[0m     \u001b[0;32mif\u001b[0m \u001b[0mres\u001b[0m\u001b[0;34m.\u001b[0m\u001b[0mstatus_code\u001b[0m \u001b[0;34m==\u001b[0m \u001b[0;36m200\u001b[0m\u001b[0;34m:\u001b[0m\u001b[0;34m\u001b[0m\u001b[0;34m\u001b[0m\u001b[0m\n\u001b[0;32m---> 19\u001b[0;31m       \u001b[0mthe_json\u001b[0m \u001b[0;34m=\u001b[0m \u001b[0mres\u001b[0m\u001b[0;34m.\u001b[0m\u001b[0mjson\u001b[0m\u001b[0;34m(\u001b[0m\u001b[0;34m)\u001b[0m\u001b[0;34m\u001b[0m\u001b[0;34m\u001b[0m\u001b[0m\n\u001b[0m\u001b[1;32m     20\u001b[0m       \u001b[0moutput_list\u001b[0m\u001b[0;34m.\u001b[0m\u001b[0mextend\u001b[0m\u001b[0;34m(\u001b[0m\u001b[0mthe_json\u001b[0m\u001b[0;34m[\u001b[0m\u001b[0;34m\"data\"\u001b[0m\u001b[0;34m]\u001b[0m\u001b[0;34m[\u001b[0m\u001b[0;34m\"children\"\u001b[0m\u001b[0;34m]\u001b[0m\u001b[0;34m)\u001b[0m\u001b[0;34m\u001b[0m\u001b[0;34m\u001b[0m\u001b[0m\n\u001b[1;32m     21\u001b[0m       \u001b[0mafter\u001b[0m \u001b[0;34m=\u001b[0m \u001b[0mthe_json\u001b[0m\u001b[0;34m[\u001b[0m\u001b[0;34m\"data\"\u001b[0m\u001b[0;34m]\u001b[0m\u001b[0;34m[\u001b[0m\u001b[0;34m\"after\"\u001b[0m\u001b[0;34m]\u001b[0m\u001b[0;34m\u001b[0m\u001b[0;34m\u001b[0m\u001b[0m\n",
            "\u001b[0;32m/usr/local/lib/python3.7/dist-packages/requests/models.py\u001b[0m in \u001b[0;36mjson\u001b[0;34m(self, **kwargs)\u001b[0m\n\u001b[1;32m    896\u001b[0m                     \u001b[0;31m# used.\u001b[0m\u001b[0;34m\u001b[0m\u001b[0;34m\u001b[0m\u001b[0;34m\u001b[0m\u001b[0m\n\u001b[1;32m    897\u001b[0m                     \u001b[0;32mpass\u001b[0m\u001b[0;34m\u001b[0m\u001b[0;34m\u001b[0m\u001b[0m\n\u001b[0;32m--> 898\u001b[0;31m         \u001b[0;32mreturn\u001b[0m \u001b[0mcomplexjson\u001b[0m\u001b[0;34m.\u001b[0m\u001b[0mloads\u001b[0m\u001b[0;34m(\u001b[0m\u001b[0mself\u001b[0m\u001b[0;34m.\u001b[0m\u001b[0mtext\u001b[0m\u001b[0;34m,\u001b[0m \u001b[0;34m**\u001b[0m\u001b[0mkwargs\u001b[0m\u001b[0;34m)\u001b[0m\u001b[0;34m\u001b[0m\u001b[0;34m\u001b[0m\u001b[0m\n\u001b[0m\u001b[1;32m    899\u001b[0m \u001b[0;34m\u001b[0m\u001b[0m\n\u001b[1;32m    900\u001b[0m     \u001b[0;34m@\u001b[0m\u001b[0mproperty\u001b[0m\u001b[0;34m\u001b[0m\u001b[0;34m\u001b[0m\u001b[0m\n",
            "\u001b[0;32m/usr/lib/python3.7/json/__init__.py\u001b[0m in \u001b[0;36mloads\u001b[0;34m(s, encoding, cls, object_hook, parse_float, parse_int, parse_constant, object_pairs_hook, **kw)\u001b[0m\n\u001b[1;32m    346\u001b[0m             \u001b[0mparse_int\u001b[0m \u001b[0;32mis\u001b[0m \u001b[0;32mNone\u001b[0m \u001b[0;32mand\u001b[0m \u001b[0mparse_float\u001b[0m \u001b[0;32mis\u001b[0m \u001b[0;32mNone\u001b[0m \u001b[0;32mand\u001b[0m\u001b[0;34m\u001b[0m\u001b[0;34m\u001b[0m\u001b[0m\n\u001b[1;32m    347\u001b[0m             parse_constant is None and object_pairs_hook is None and not kw):\n\u001b[0;32m--> 348\u001b[0;31m         \u001b[0;32mreturn\u001b[0m \u001b[0m_default_decoder\u001b[0m\u001b[0;34m.\u001b[0m\u001b[0mdecode\u001b[0m\u001b[0;34m(\u001b[0m\u001b[0ms\u001b[0m\u001b[0;34m)\u001b[0m\u001b[0;34m\u001b[0m\u001b[0;34m\u001b[0m\u001b[0m\n\u001b[0m\u001b[1;32m    349\u001b[0m     \u001b[0;32mif\u001b[0m \u001b[0mcls\u001b[0m \u001b[0;32mis\u001b[0m \u001b[0;32mNone\u001b[0m\u001b[0;34m:\u001b[0m\u001b[0;34m\u001b[0m\u001b[0;34m\u001b[0m\u001b[0m\n\u001b[1;32m    350\u001b[0m         \u001b[0mcls\u001b[0m \u001b[0;34m=\u001b[0m \u001b[0mJSONDecoder\u001b[0m\u001b[0;34m\u001b[0m\u001b[0;34m\u001b[0m\u001b[0m\n",
            "\u001b[0;32m/usr/lib/python3.7/json/decoder.py\u001b[0m in \u001b[0;36mdecode\u001b[0;34m(self, s, _w)\u001b[0m\n\u001b[1;32m    335\u001b[0m \u001b[0;34m\u001b[0m\u001b[0m\n\u001b[1;32m    336\u001b[0m         \"\"\"\n\u001b[0;32m--> 337\u001b[0;31m         \u001b[0mobj\u001b[0m\u001b[0;34m,\u001b[0m \u001b[0mend\u001b[0m \u001b[0;34m=\u001b[0m \u001b[0mself\u001b[0m\u001b[0;34m.\u001b[0m\u001b[0mraw_decode\u001b[0m\u001b[0;34m(\u001b[0m\u001b[0ms\u001b[0m\u001b[0;34m,\u001b[0m \u001b[0midx\u001b[0m\u001b[0;34m=\u001b[0m\u001b[0m_w\u001b[0m\u001b[0;34m(\u001b[0m\u001b[0ms\u001b[0m\u001b[0;34m,\u001b[0m \u001b[0;36m0\u001b[0m\u001b[0;34m)\u001b[0m\u001b[0;34m.\u001b[0m\u001b[0mend\u001b[0m\u001b[0;34m(\u001b[0m\u001b[0;34m)\u001b[0m\u001b[0;34m)\u001b[0m\u001b[0;34m\u001b[0m\u001b[0;34m\u001b[0m\u001b[0m\n\u001b[0m\u001b[1;32m    338\u001b[0m         \u001b[0mend\u001b[0m \u001b[0;34m=\u001b[0m \u001b[0m_w\u001b[0m\u001b[0;34m(\u001b[0m\u001b[0ms\u001b[0m\u001b[0;34m,\u001b[0m \u001b[0mend\u001b[0m\u001b[0;34m)\u001b[0m\u001b[0;34m.\u001b[0m\u001b[0mend\u001b[0m\u001b[0;34m(\u001b[0m\u001b[0;34m)\u001b[0m\u001b[0;34m\u001b[0m\u001b[0;34m\u001b[0m\u001b[0m\n\u001b[1;32m    339\u001b[0m         \u001b[0;32mif\u001b[0m \u001b[0mend\u001b[0m \u001b[0;34m!=\u001b[0m \u001b[0mlen\u001b[0m\u001b[0;34m(\u001b[0m\u001b[0ms\u001b[0m\u001b[0;34m)\u001b[0m\u001b[0;34m:\u001b[0m\u001b[0;34m\u001b[0m\u001b[0;34m\u001b[0m\u001b[0m\n",
            "\u001b[0;32m/usr/lib/python3.7/json/decoder.py\u001b[0m in \u001b[0;36mraw_decode\u001b[0;34m(self, s, idx)\u001b[0m\n\u001b[1;32m    353\u001b[0m             \u001b[0mobj\u001b[0m\u001b[0;34m,\u001b[0m \u001b[0mend\u001b[0m \u001b[0;34m=\u001b[0m \u001b[0mself\u001b[0m\u001b[0;34m.\u001b[0m\u001b[0mscan_once\u001b[0m\u001b[0;34m(\u001b[0m\u001b[0ms\u001b[0m\u001b[0;34m,\u001b[0m \u001b[0midx\u001b[0m\u001b[0;34m)\u001b[0m\u001b[0;34m\u001b[0m\u001b[0;34m\u001b[0m\u001b[0m\n\u001b[1;32m    354\u001b[0m         \u001b[0;32mexcept\u001b[0m \u001b[0mStopIteration\u001b[0m \u001b[0;32mas\u001b[0m \u001b[0merr\u001b[0m\u001b[0;34m:\u001b[0m\u001b[0;34m\u001b[0m\u001b[0;34m\u001b[0m\u001b[0m\n\u001b[0;32m--> 355\u001b[0;31m             \u001b[0;32mraise\u001b[0m \u001b[0mJSONDecodeError\u001b[0m\u001b[0;34m(\u001b[0m\u001b[0;34m\"Expecting value\"\u001b[0m\u001b[0;34m,\u001b[0m \u001b[0ms\u001b[0m\u001b[0;34m,\u001b[0m \u001b[0merr\u001b[0m\u001b[0;34m.\u001b[0m\u001b[0mvalue\u001b[0m\u001b[0;34m)\u001b[0m \u001b[0;32mfrom\u001b[0m \u001b[0;32mNone\u001b[0m\u001b[0;34m\u001b[0m\u001b[0;34m\u001b[0m\u001b[0m\n\u001b[0m\u001b[1;32m    356\u001b[0m         \u001b[0;32mreturn\u001b[0m \u001b[0mobj\u001b[0m\u001b[0;34m,\u001b[0m \u001b[0mend\u001b[0m\u001b[0;34m\u001b[0m\u001b[0;34m\u001b[0m\u001b[0m\n",
            "\u001b[0;31mJSONDecodeError\u001b[0m: Expecting value: line 2 column 5 (char 5)"
          ]
        }
      ],
      "source": [
        "homeless1 = []\n",
        "reddit_scrape(url_homeless1, 50, homeless1)"
      ]
    },
    {
      "cell_type": "code",
      "execution_count": null,
      "metadata": {
        "id": "VxGf0qdq92FM"
      },
      "outputs": [],
      "source": []
    }
  ],
  "metadata": {
    "colab": {
      "collapsed_sections": [],
      "name": "Unsupervised Label Correction.ipynb",
      "provenance": []
    },
    "kernelspec": {
      "display_name": "Python 3",
      "name": "python3"
    },
    "language_info": {
      "codemirror_mode": {
        "name": "ipython",
        "version": 3
      },
      "file_extension": ".py",
      "mimetype": "text/x-python",
      "name": "python",
      "nbconvert_exporter": "python",
      "pygments_lexer": "ipython3",
      "version": "3.9.12"
    }
  },
  "nbformat": 4,
  "nbformat_minor": 0
}
