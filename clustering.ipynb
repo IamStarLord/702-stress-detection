{
 "cells": [
  {
   "cell_type": "code",
   "execution_count": 13,
   "metadata": {},
   "outputs": [],
   "source": [
    "import umap.umap_ as umap\n",
    "from sklearn.mixture import GaussianMixture\n",
    "\n",
    "import numpy as np \n",
    "import pandas as pd "
   ]
  },
  {
   "cell_type": "code",
   "execution_count": 14,
   "metadata": {},
   "outputs": [],
   "source": [
    "def data_prep(dataset):\n",
    "    \n",
    "    features = pd.read_csv(f\"bert-training-features-{dataset}.csv\", delimiter=\",\", header=None)\n",
    "    labels = pd.read_csv(f\"data/{dataset}/train.csv\", delimiter=\",\")\n",
    "    if dataset == \"reddit\":\n",
    "        labels = labels.dropna()\n",
    "        labels = labels[\"is_stress\"]\n",
    "        labels = labels.iloc[:5952]\n",
    "    elif dataset == \"dreaddit\":\n",
    "        labels = labels[\"label\"]\n",
    "        labels = labels.iloc[:2816]\n",
    "    return (features, labels)\n",
    "    \n"
   ]
  },
  {
   "cell_type": "code",
   "execution_count": 15,
   "metadata": {},
   "outputs": [],
   "source": [
    "def reduce(features):\n",
    "    reducer = umap.UMAP(\n",
    "        n_neighbors=45, \n",
    "        min_dist=0.7, \n",
    "        n_components=2, \n",
    "        metric='manhattan'\n",
    "    )\n",
    "\n",
    "    low_dim_features = reducer.fit_transform(features)\n",
    "    return low_dim_features"
   ]
  },
  {
   "cell_type": "code",
   "execution_count": 16,
   "metadata": {},
   "outputs": [],
   "source": [
    "def GMM(low_dim_features_train, low_dim_features_test):\n",
    "    gmm = GaussianMixture(n_components=2, covariance_type=\"full\").fit(low_dim_features_train)\n",
    "    predictions = gmm.predict(low_dim_features_test)\n",
    "    probs = gmm.predict_proba(low_dim_features_test)\n",
    "    return (predictions, probs)"
   ]
  },
  {
   "cell_type": "code",
   "execution_count": 17,
   "metadata": {},
   "outputs": [],
   "source": [
    "def accuracy(predictions, labels):\n",
    "    assert predictions.shape == labels.shape, f\"shape is not equal predictions: {predictions.shape}, labels: {labels.shape}\"\n",
    "    return (predictions==labels).sum() / len(predictions)"
   ]
  },
  {
   "cell_type": "code",
   "execution_count": 18,
   "metadata": {},
   "outputs": [],
   "source": [
    "features_reddit, labels_reddit = data_prep(\"reddit\")\n",
    "features_dreaddit, labels_dreaddit = data_prep(\"dreaddit\")"
   ]
  },
  {
   "cell_type": "code",
   "execution_count": 19,
   "metadata": {},
   "outputs": [],
   "source": [
    "low_dim_features_reddit = reduce(features_reddit)\n",
    "low_dim_features_dreaddit = reduce(features_dreaddit)"
   ]
  },
  {
   "cell_type": "code",
   "execution_count": 20,
   "metadata": {},
   "outputs": [
    {
     "data": {
      "text/plain": [
       "0.5581317204301075"
      ]
     },
     "execution_count": 20,
     "metadata": {},
     "output_type": "execute_result"
    }
   ],
   "source": [
    "# Experiment # 01\n",
    "# Train on reddit and test on reddit \n",
    "pred_reddit, prob_reddit = GMM(low_dim_features_reddit, low_dim_features_reddit)\n",
    "acc_reddit = accuracy(pred_reddit, labels_reddit)\n",
    "acc_reddit"
   ]
  },
  {
   "cell_type": "code",
   "execution_count": 21,
   "metadata": {},
   "outputs": [
    {
     "data": {
      "text/plain": [
       "0.4758522727272727"
      ]
     },
     "execution_count": 21,
     "metadata": {},
     "output_type": "execute_result"
    }
   ],
   "source": [
    "# Experiment # 02 \n",
    "# Train on reddit and test on dreaddit \n",
    "pred_red_dr, prob_red_dr = GMM(low_dim_features_reddit, low_dim_features_dreaddit)\n",
    "acc_red_dr = accuracy(pred_red_dr, labels_dreaddit)\n",
    "acc_red_dr"
   ]
  },
  {
   "cell_type": "code",
   "execution_count": 22,
   "metadata": {},
   "outputs": [
    {
     "data": {
      "text/plain": [
       "0.5944602272727273"
      ]
     },
     "execution_count": 22,
     "metadata": {},
     "output_type": "execute_result"
    }
   ],
   "source": [
    "# Experiment # 03 \n",
    "# Train on dreaddit and test on dreaddit \n",
    "pred_dr, prob_dr = GMM(low_dim_features_dreaddit, low_dim_features_dreaddit)\n",
    "acc_dr = accuracy(pred_dr, labels_dreaddit)\n",
    "acc_dr"
   ]
  },
  {
   "cell_type": "code",
   "execution_count": 23,
   "metadata": {},
   "outputs": [
    {
     "data": {
      "text/plain": [
       "0.582997311827957"
      ]
     },
     "execution_count": 23,
     "metadata": {},
     "output_type": "execute_result"
    }
   ],
   "source": [
    "# Experiment # 04 \n",
    "# train on dreaddit and test on reddit \n",
    "pred_dr_rd, prob_dr_rd = GMM(low_dim_features_dreaddit, low_dim_features_reddit)\n",
    "acc_dr_rd = accuracy(pred_dr_rd, labels_reddit)\n",
    "acc_dr_rd"
   ]
  },
  {
   "cell_type": "code",
   "execution_count": 26,
   "metadata": {},
   "outputs": [],
   "source": [
    "# the models trained on reddit data seem to perform the best\n",
    "# save the probabilities and prediction in a csv file \n",
    "np.savetxt(\"reddit-trained-pred.csv\", pred_reddit, delimiter=',')\n",
    "np.savetxt(\"reddit-trained-prob.csv\", prob_reddit, delimiter=',')\n",
    "np.savetxt(\"dreaddit-trained-pred.csv\", pred_dr_rd, delimiter=',')\n",
    "np.savetxt(\"dreaddit-trained-prob.csv\", prob_dr_rd, delimiter=',')\n"
   ]
  }
 ],
 "metadata": {
  "kernelspec": {
   "display_name": "702",
   "language": "python",
   "name": "702"
  },
  "language_info": {
   "codemirror_mode": {
    "name": "ipython",
    "version": 3
   },
   "file_extension": ".py",
   "mimetype": "text/x-python",
   "name": "python",
   "nbconvert_exporter": "python",
   "pygments_lexer": "ipython3",
   "version": "3.9.12"
  },
  "orig_nbformat": 4
 },
 "nbformat": 4,
 "nbformat_minor": 2
}
