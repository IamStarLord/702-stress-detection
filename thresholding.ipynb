{
 "cells": [
  {
   "cell_type": "code",
   "execution_count": 54,
   "metadata": {},
   "outputs": [],
   "source": [
    "import numpy as np \n",
    "import pandas as pd"
   ]
  },
  {
   "cell_type": "code",
   "execution_count": 55,
   "metadata": {},
   "outputs": [],
   "source": [
    "original_labels = pd.read_csv(\"data/reddit/train.csv\")[\"is_stress\"].iloc[:5952]"
   ]
  },
  {
   "cell_type": "code",
   "execution_count": 56,
   "metadata": {},
   "outputs": [],
   "source": [
    "original_labels = np.asarray(original_labels)"
   ]
  },
  {
   "cell_type": "code",
   "execution_count": 57,
   "metadata": {},
   "outputs": [],
   "source": [
    "predicted_labels = pd.read_csv(\"reddit-trained-pred.csv\", header=None, delimiter=\",\")\n",
    "predicted_probs = pd.read_csv(\"reddit-trained-prob.csv\", header=None, delimiter=\",\")"
   ]
  },
  {
   "cell_type": "code",
   "execution_count": 58,
   "metadata": {},
   "outputs": [],
   "source": [
    "predicted_probs = predicted_probs.max(axis=1)"
   ]
  },
  {
   "cell_type": "code",
   "execution_count": 59,
   "metadata": {},
   "outputs": [
    {
     "data": {
      "text/plain": [
       "0       1.0\n",
       "1       1.0\n",
       "2       1.0\n",
       "3       1.0\n",
       "4       1.0\n",
       "       ... \n",
       "5947    1.0\n",
       "5948    1.0\n",
       "5949    1.0\n",
       "5950    1.0\n",
       "5951    1.0\n",
       "Length: 5952, dtype: float64"
      ]
     },
     "execution_count": 59,
     "metadata": {},
     "output_type": "execute_result"
    }
   ],
   "source": [
    "predicted_probs"
   ]
  },
  {
   "cell_type": "code",
   "execution_count": 69,
   "metadata": {},
   "outputs": [],
   "source": [
    "predicted_labels = predicted_labels.reshape(5952, )"
   ]
  },
  {
   "cell_type": "code",
   "execution_count": 70,
   "metadata": {},
   "outputs": [
    {
     "data": {
      "text/plain": [
       "array([1., 1., 1., ..., 1., 1., 1.])"
      ]
     },
     "execution_count": 70,
     "metadata": {},
     "output_type": "execute_result"
    }
   ],
   "source": [
    "predicted_labels"
   ]
  },
  {
   "cell_type": "code",
   "execution_count": 60,
   "metadata": {},
   "outputs": [],
   "source": [
    "# np.savetxt(\"predicted_probs_final.csv\", predicted_probs)"
   ]
  },
  {
   "cell_type": "code",
   "execution_count": 71,
   "metadata": {},
   "outputs": [],
   "source": [
    "predicted_labels = np.asarray(predicted_labels)\n",
    "predicted_probs = np.asarray(predicted_probs)"
   ]
  },
  {
   "cell_type": "code",
   "execution_count": 72,
   "metadata": {},
   "outputs": [],
   "source": [
    "tau = 0.90\n",
    "\n",
    "labels_final = list()\n",
    "\n",
    "for i in range(len(original_labels)):\n",
    "    if original_labels[i] != predicted_labels[i]:\n",
    "        if predicted_probs[i] > tau or predicted_probs[i] < (1 - tau): \n",
    "            labels_final.append(predicted_labels[i])\n",
    "        else:\n",
    "            labels_final.append(original_labels[i])\n",
    "    else:\n",
    "        labels_final.append(original_labels[i])\n",
    "\n",
    "labels_final = np.asarray(labels_final)\n",
    "    \n",
    "            "
   ]
  },
  {
   "cell_type": "code",
   "execution_count": 73,
   "metadata": {},
   "outputs": [
    {
     "data": {
      "text/plain": [
       "1.0"
      ]
     },
     "execution_count": 73,
     "metadata": {},
     "output_type": "execute_result"
    }
   ],
   "source": [
    "labels_final[0]"
   ]
  },
  {
   "cell_type": "code",
   "execution_count": 74,
   "metadata": {},
   "outputs": [
    {
     "data": {
      "text/plain": [
       "1.0"
      ]
     },
     "execution_count": 74,
     "metadata": {},
     "output_type": "execute_result"
    }
   ],
   "source": [
    "predicted_labels[0]"
   ]
  },
  {
   "cell_type": "code",
   "execution_count": 52,
   "metadata": {},
   "outputs": [
    {
     "data": {
      "text/plain": [
       "1"
      ]
     },
     "execution_count": 52,
     "metadata": {},
     "output_type": "execute_result"
    }
   ],
   "source": [
    "original_labels[0]"
   ]
  },
  {
   "cell_type": "code",
   "execution_count": 79,
   "metadata": {},
   "outputs": [],
   "source": [
    "copy = pd.read_csv(\"data/reddit/train.csv\")\n",
    "copy = copy.iloc[:5952]\n",
    "copy[\"final_labels\"] = labels_final.astype(int)"
   ]
  },
  {
   "cell_type": "code",
   "execution_count": 80,
   "metadata": {},
   "outputs": [
    {
     "data": {
      "text/html": [
       "<div>\n",
       "<style scoped>\n",
       "    .dataframe tbody tr th:only-of-type {\n",
       "        vertical-align: middle;\n",
       "    }\n",
       "\n",
       "    .dataframe tbody tr th {\n",
       "        vertical-align: top;\n",
       "    }\n",
       "\n",
       "    .dataframe thead th {\n",
       "        text-align: right;\n",
       "    }\n",
       "</style>\n",
       "<table border=\"1\" class=\"dataframe\">\n",
       "  <thead>\n",
       "    <tr style=\"text-align: right;\">\n",
       "      <th></th>\n",
       "      <th>title</th>\n",
       "      <th>selftext</th>\n",
       "      <th>author</th>\n",
       "      <th>num_comments</th>\n",
       "      <th>is_stress</th>\n",
       "      <th>url</th>\n",
       "      <th>final_labels</th>\n",
       "    </tr>\n",
       "  </thead>\n",
       "  <tbody>\n",
       "    <tr>\n",
       "      <th>0</th>\n",
       "      <td>Free Covid-19 Anxiety e-Workbook. Please, take...</td>\n",
       "      <td>The book is available [Here](https://thewellne...</td>\n",
       "      <td>Impudence</td>\n",
       "      <td>11</td>\n",
       "      <td>1</td>\n",
       "      <td>https://www.reddit.com/r/Stress/comments/fwes8...</td>\n",
       "      <td>1</td>\n",
       "    </tr>\n",
       "    <tr>\n",
       "      <th>1</th>\n",
       "      <td>In what way does chronic stress affect your br...</td>\n",
       "      <td>I am just wondering, because I have some probl...</td>\n",
       "      <td>Cyclizine</td>\n",
       "      <td>0</td>\n",
       "      <td>1</td>\n",
       "      <td>https://www.reddit.com/r/Stress/comments/u9k39...</td>\n",
       "      <td>1</td>\n",
       "    </tr>\n",
       "    <tr>\n",
       "      <th>2</th>\n",
       "      <td>How do I better control my feelings when I get...</td>\n",
       "      <td>Hey reddit,\\n\\nI'm going to keep this somewhat...</td>\n",
       "      <td>throwaltsadboi</td>\n",
       "      <td>4</td>\n",
       "      <td>1</td>\n",
       "      <td>https://www.reddit.com/r/Stress/comments/u99dp...</td>\n",
       "      <td>1</td>\n",
       "    </tr>\n",
       "    <tr>\n",
       "      <th>3</th>\n",
       "      <td>3 Powerful Tips To Help Manage Everyday Stress</td>\n",
       "      <td>[https://www.dodopedo.com/3-powerful-tips-to-h...</td>\n",
       "      <td>Narrow_Knowledge_613</td>\n",
       "      <td>0</td>\n",
       "      <td>1</td>\n",
       "      <td>https://www.reddit.com/r/Stress/comments/u97mr...</td>\n",
       "      <td>0</td>\n",
       "    </tr>\n",
       "    <tr>\n",
       "      <th>4</th>\n",
       "      <td>So I Gave Up Facebook For 8 Months...</td>\n",
       "      <td>I gotta say, I feel TONS better. Facebook had ...</td>\n",
       "      <td>VampyreBassist</td>\n",
       "      <td>0</td>\n",
       "      <td>1</td>\n",
       "      <td>https://www.reddit.com/r/Stress/comments/u8i83...</td>\n",
       "      <td>1</td>\n",
       "    </tr>\n",
       "  </tbody>\n",
       "</table>\n",
       "</div>"
      ],
      "text/plain": [
       "                                               title  \\\n",
       "0  Free Covid-19 Anxiety e-Workbook. Please, take...   \n",
       "1  In what way does chronic stress affect your br...   \n",
       "2  How do I better control my feelings when I get...   \n",
       "3     3 Powerful Tips To Help Manage Everyday Stress   \n",
       "4              So I Gave Up Facebook For 8 Months...   \n",
       "\n",
       "                                            selftext                author  \\\n",
       "0  The book is available [Here](https://thewellne...             Impudence   \n",
       "1  I am just wondering, because I have some probl...             Cyclizine   \n",
       "2  Hey reddit,\\n\\nI'm going to keep this somewhat...        throwaltsadboi   \n",
       "3  [https://www.dodopedo.com/3-powerful-tips-to-h...  Narrow_Knowledge_613   \n",
       "4  I gotta say, I feel TONS better. Facebook had ...        VampyreBassist   \n",
       "\n",
       "   num_comments  is_stress                                                url  \\\n",
       "0            11          1  https://www.reddit.com/r/Stress/comments/fwes8...   \n",
       "1             0          1  https://www.reddit.com/r/Stress/comments/u9k39...   \n",
       "2             4          1  https://www.reddit.com/r/Stress/comments/u99dp...   \n",
       "3             0          1  https://www.reddit.com/r/Stress/comments/u97mr...   \n",
       "4             0          1  https://www.reddit.com/r/Stress/comments/u8i83...   \n",
       "\n",
       "   final_labels  \n",
       "0             1  \n",
       "1             1  \n",
       "2             1  \n",
       "3             0  \n",
       "4             1  "
      ]
     },
     "execution_count": 80,
     "metadata": {},
     "output_type": "execute_result"
    }
   ],
   "source": [
    "copy.head()"
   ]
  },
  {
   "cell_type": "code",
   "execution_count": 81,
   "metadata": {},
   "outputs": [],
   "source": [
    "copy.to_csv(\"reddit-scraped.csv\", index=False)"
   ]
  },
  {
   "cell_type": "code",
   "execution_count": null,
   "metadata": {},
   "outputs": [],
   "source": []
  }
 ],
 "metadata": {
  "kernelspec": {
   "display_name": "702",
   "language": "python",
   "name": "702"
  },
  "language_info": {
   "codemirror_mode": {
    "name": "ipython",
    "version": 3
   },
   "file_extension": ".py",
   "mimetype": "text/x-python",
   "name": "python",
   "nbconvert_exporter": "python",
   "pygments_lexer": "ipython3",
   "version": "3.9.12"
  },
  "orig_nbformat": 4
 },
 "nbformat": 4,
 "nbformat_minor": 2
}
